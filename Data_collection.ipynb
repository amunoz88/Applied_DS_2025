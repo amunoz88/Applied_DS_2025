{
  "nbformat": 4,
  "nbformat_minor": 0,
  "metadata": {
    "colab": {
      "provenance": [],
      "authorship_tag": "ABX9TyMwvRlYek7fz4/IRbCfqsmE",
      "include_colab_link": true
    },
    "kernelspec": {
      "name": "python3",
      "display_name": "Python 3"
    },
    "language_info": {
      "name": "python"
    }
  },
  "cells": [
    {
      "cell_type": "markdown",
      "metadata": {
        "id": "view-in-github",
        "colab_type": "text"
      },
      "source": [
        "<a href=\"https://colab.research.google.com/github/amunoz88/Applied_DS_2025/blob/main/Data_collection.ipynb\" target=\"_parent\"><img src=\"https://colab.research.google.com/assets/colab-badge.svg\" alt=\"Open In Colab\"/></a>"
      ]
    },
    {
      "cell_type": "code",
      "execution_count": null,
      "metadata": {
        "colab": {
          "base_uri": "https://localhost:8080/"
        },
        "id": "bI6RkhDDPjH4",
        "outputId": "ab7fc6bd-c9b8-4135-decf-171a3a49e761"
      },
      "outputs": [
        {
          "output_type": "stream",
          "name": "stdout",
          "text": [
            "Requirement already satisfied: yfinance in /usr/local/lib/python3.11/dist-packages (0.2.55)\n",
            "Requirement already satisfied: pandas>=1.3.0 in /usr/local/lib/python3.11/dist-packages (from yfinance) (2.2.2)\n",
            "Requirement already satisfied: numpy>=1.16.5 in /usr/local/lib/python3.11/dist-packages (from yfinance) (2.0.2)\n",
            "Requirement already satisfied: requests>=2.31 in /usr/local/lib/python3.11/dist-packages (from yfinance) (2.32.3)\n",
            "Requirement already satisfied: multitasking>=0.0.7 in /usr/local/lib/python3.11/dist-packages (from yfinance) (0.0.11)\n",
            "Requirement already satisfied: platformdirs>=2.0.0 in /usr/local/lib/python3.11/dist-packages (from yfinance) (4.3.7)\n",
            "Requirement already satisfied: pytz>=2022.5 in /usr/local/lib/python3.11/dist-packages (from yfinance) (2025.1)\n",
            "Requirement already satisfied: frozendict>=2.3.4 in /usr/local/lib/python3.11/dist-packages (from yfinance) (2.4.6)\n",
            "Requirement already satisfied: peewee>=3.16.2 in /usr/local/lib/python3.11/dist-packages (from yfinance) (3.17.9)\n",
            "Requirement already satisfied: beautifulsoup4>=4.11.1 in /usr/local/lib/python3.11/dist-packages (from yfinance) (4.13.3)\n",
            "Requirement already satisfied: soupsieve>1.2 in /usr/local/lib/python3.11/dist-packages (from beautifulsoup4>=4.11.1->yfinance) (2.6)\n",
            "Requirement already satisfied: typing-extensions>=4.0.0 in /usr/local/lib/python3.11/dist-packages (from beautifulsoup4>=4.11.1->yfinance) (4.12.2)\n",
            "Requirement already satisfied: python-dateutil>=2.8.2 in /usr/local/lib/python3.11/dist-packages (from pandas>=1.3.0->yfinance) (2.8.2)\n",
            "Requirement already satisfied: tzdata>=2022.7 in /usr/local/lib/python3.11/dist-packages (from pandas>=1.3.0->yfinance) (2025.1)\n",
            "Requirement already satisfied: charset-normalizer<4,>=2 in /usr/local/lib/python3.11/dist-packages (from requests>=2.31->yfinance) (3.4.1)\n",
            "Requirement already satisfied: idna<4,>=2.5 in /usr/local/lib/python3.11/dist-packages (from requests>=2.31->yfinance) (3.10)\n",
            "Requirement already satisfied: urllib3<3,>=1.21.1 in /usr/local/lib/python3.11/dist-packages (from requests>=2.31->yfinance) (2.3.0)\n",
            "Requirement already satisfied: certifi>=2017.4.17 in /usr/local/lib/python3.11/dist-packages (from requests>=2.31->yfinance) (2025.1.31)\n",
            "Requirement already satisfied: six>=1.5 in /usr/local/lib/python3.11/dist-packages (from python-dateutil>=2.8.2->pandas>=1.3.0->yfinance) (1.17.0)\n"
          ]
        }
      ],
      "source": [
        "pip install yfinance\n"
      ]
    },
    {
      "cell_type": "code",
      "source": [
        "#@title Getting Yahoo finance data example\n",
        "import yfinance\n",
        "data = yfinance.download('^GSPC',period='1y')\n",
        "data.columns = data.columns.droplevel(1)\n",
        "print(\"\\n\")\n",
        "print(data)"
      ],
      "metadata": {
        "colab": {
          "base_uri": "https://localhost:8080/"
        },
        "id": "UIUnMd36QgBB",
        "outputId": "f051996e-9a09-48b2-d8ba-4ea139282d79"
      },
      "execution_count": null,
      "outputs": [
        {
          "output_type": "stream",
          "name": "stdout",
          "text": [
            "YF.download() has changed argument auto_adjust default to True\n"
          ]
        },
        {
          "output_type": "stream",
          "name": "stderr",
          "text": [
            "\r[*********************100%***********************]  1 of 1 completed"
          ]
        },
        {
          "output_type": "stream",
          "name": "stdout",
          "text": [
            "\n",
            "\n",
            "Price             Close         High          Low         Open      Volume\n",
            "Date                                                                      \n",
            "2024-03-26  5203.580078  5235.160156  5203.419922  5228.850098  3871790000\n",
            "2024-03-27  5248.490234  5249.259766  5213.919922  5226.310059  3850500000\n",
            "2024-03-28  5254.350098  5264.850098  5245.819824  5248.029785  3998270000\n",
            "2024-04-01  5243.770020  5263.950195  5229.200195  5257.970215  3325930000\n",
            "2024-04-02  5205.810059  5208.339844  5184.049805  5204.290039  3886590000\n",
            "...                 ...          ...          ...          ...         ...\n",
            "2025-03-19  5675.290039  5715.330078  5622.200195  5632.370117  4660090000\n",
            "2025-03-20  5662.890137  5711.149902  5632.330078  5646.919922  4678420000\n",
            "2025-03-21  5667.560059  5670.839844  5603.100098  5630.729980  9367460000\n",
            "2025-03-24  5767.569824  5775.140137  5718.080078  5718.080078  4517990000\n",
            "2025-03-25  5776.649902  5786.950195  5760.419922  5775.959961  2675650000\n",
            "\n",
            "[250 rows x 5 columns]\n"
          ]
        },
        {
          "output_type": "stream",
          "name": "stderr",
          "text": [
            "\n"
          ]
        }
      ]
    },
    {
      "cell_type": "code",
      "source": [
        "#@title Getting data from web API example\n",
        "import requests\n",
        "import json\n",
        "import pandas as pd\n",
        "\n",
        "# You should get your own API key at https://api.congress.gov/sign-up/\n",
        "API_KEY=\"\"\n",
        "def get_members(congress_number, first_index, last_index):\n",
        "  request = f\"https://api.congress.gov/v3/member/congress/{congress_number}?api_key={API_KEY}&offset={first_index}&limit={last_index - first_index}\"\n",
        "  r = requests.get(request)\n",
        "  return parse_dataset(json.loads(r.content))\n",
        "\n",
        "def get_all_members(congress_number):\n",
        "  \"\"\"Returns all members of congress for a given congress number.\n",
        "\n",
        "  Args: Congress number. There is a new congress every two years.\n",
        "\n",
        "  Returns:\n",
        "    A pandas DataFrame containing all members of congress and their affiliation as well as the chamber they belong to.\n",
        "  \"\"\"\n",
        "\n",
        "  return pd.concat([get_members(congress_number, 200*i, 200*(i+1)) for i in range(3)]).reset_index(drop=True)\n",
        "\n",
        "def parse_member(entry):\n",
        "  name = entry['name']\n",
        "  party = entry['partyName']\n",
        "  terms = entry['terms']['item']\n",
        "  chamber = terms[len(terms)-1]['chamber']\n",
        "  return name, party, chamber\n",
        "\n",
        "def parse_dataset(json_obj):\n",
        "  name, party, chamber = zip(*[parse_member(entry) for entry in json_obj['members']])\n",
        "  return pd.DataFrame({'name': name, 'party': party, 'chamber': chamber})\n",
        "\n",
        "get_all_members(118)"
      ],
      "metadata": {
        "id": "9ZsLbplcQl52",
        "colab": {
          "base_uri": "https://localhost:8080/",
          "height": 321
        },
        "outputId": "83edb0a1-9f7a-47ca-b6ae-8148e51e2e2d"
      },
      "execution_count": 1,
      "outputs": [
        {
          "output_type": "error",
          "ename": "KeyError",
          "evalue": "'members'",
          "traceback": [
            "\u001b[0;31m---------------------------------------------------------------------------\u001b[0m",
            "\u001b[0;31mKeyError\u001b[0m                                  Traceback (most recent call last)",
            "\u001b[0;32m<ipython-input-1-20431a54fc66>\u001b[0m in \u001b[0;36m<cell line: 0>\u001b[0;34m()\u001b[0m\n\u001b[1;32m     26\u001b[0m   \u001b[0;32mreturn\u001b[0m \u001b[0mpd\u001b[0m\u001b[0;34m.\u001b[0m\u001b[0mDataFrame\u001b[0m\u001b[0;34m(\u001b[0m\u001b[0;34m{\u001b[0m\u001b[0;34m'name'\u001b[0m\u001b[0;34m:\u001b[0m \u001b[0mname\u001b[0m\u001b[0;34m,\u001b[0m \u001b[0;34m'party'\u001b[0m\u001b[0;34m:\u001b[0m \u001b[0mparty\u001b[0m\u001b[0;34m,\u001b[0m \u001b[0;34m'chamber'\u001b[0m\u001b[0;34m:\u001b[0m \u001b[0mchamber\u001b[0m\u001b[0;34m}\u001b[0m\u001b[0;34m)\u001b[0m\u001b[0;34m\u001b[0m\u001b[0;34m\u001b[0m\u001b[0m\n\u001b[1;32m     27\u001b[0m \u001b[0;34m\u001b[0m\u001b[0m\n\u001b[0;32m---> 28\u001b[0;31m \u001b[0mget_all_members\u001b[0m\u001b[0;34m(\u001b[0m\u001b[0;36m118\u001b[0m\u001b[0;34m)\u001b[0m\u001b[0;34m\u001b[0m\u001b[0;34m\u001b[0m\u001b[0m\n\u001b[0m",
            "\u001b[0;32m<ipython-input-1-20431a54fc66>\u001b[0m in \u001b[0;36mget_all_members\u001b[0;34m(congress_number)\u001b[0m\n\u001b[1;32m     13\u001b[0m \u001b[0;32mdef\u001b[0m \u001b[0mget_all_members\u001b[0m\u001b[0;34m(\u001b[0m\u001b[0mcongress_number\u001b[0m\u001b[0;34m)\u001b[0m\u001b[0;34m:\u001b[0m\u001b[0;34m\u001b[0m\u001b[0;34m\u001b[0m\u001b[0m\n\u001b[1;32m     14\u001b[0m   \u001b[0;31m# Returns all members of congress for a given congress number.\u001b[0m\u001b[0;34m\u001b[0m\u001b[0;34m\u001b[0m\u001b[0m\n\u001b[0;32m---> 15\u001b[0;31m   \u001b[0;32mreturn\u001b[0m \u001b[0mpd\u001b[0m\u001b[0;34m.\u001b[0m\u001b[0mconcat\u001b[0m\u001b[0;34m(\u001b[0m\u001b[0;34m[\u001b[0m\u001b[0mget_members\u001b[0m\u001b[0;34m(\u001b[0m\u001b[0mcongress_number\u001b[0m\u001b[0;34m,\u001b[0m \u001b[0;36m200\u001b[0m\u001b[0;34m*\u001b[0m\u001b[0mi\u001b[0m\u001b[0;34m,\u001b[0m \u001b[0;36m200\u001b[0m\u001b[0;34m*\u001b[0m\u001b[0;34m(\u001b[0m\u001b[0mi\u001b[0m\u001b[0;34m+\u001b[0m\u001b[0;36m1\u001b[0m\u001b[0;34m)\u001b[0m\u001b[0;34m)\u001b[0m \u001b[0;32mfor\u001b[0m \u001b[0mi\u001b[0m \u001b[0;32min\u001b[0m \u001b[0mrange\u001b[0m\u001b[0;34m(\u001b[0m\u001b[0;36m3\u001b[0m\u001b[0;34m)\u001b[0m\u001b[0;34m]\u001b[0m\u001b[0;34m)\u001b[0m\u001b[0;34m.\u001b[0m\u001b[0mreset_index\u001b[0m\u001b[0;34m(\u001b[0m\u001b[0mdrop\u001b[0m\u001b[0;34m=\u001b[0m\u001b[0;32mTrue\u001b[0m\u001b[0;34m)\u001b[0m\u001b[0;34m\u001b[0m\u001b[0;34m\u001b[0m\u001b[0m\n\u001b[0m\u001b[1;32m     16\u001b[0m \u001b[0;34m\u001b[0m\u001b[0m\n\u001b[1;32m     17\u001b[0m \u001b[0;32mdef\u001b[0m \u001b[0mparse_member\u001b[0m\u001b[0;34m(\u001b[0m\u001b[0mentry\u001b[0m\u001b[0;34m)\u001b[0m\u001b[0;34m:\u001b[0m\u001b[0;34m\u001b[0m\u001b[0;34m\u001b[0m\u001b[0m\n",
            "\u001b[0;32m<ipython-input-1-20431a54fc66>\u001b[0m in \u001b[0;36m<listcomp>\u001b[0;34m(.0)\u001b[0m\n\u001b[1;32m     13\u001b[0m \u001b[0;32mdef\u001b[0m \u001b[0mget_all_members\u001b[0m\u001b[0;34m(\u001b[0m\u001b[0mcongress_number\u001b[0m\u001b[0;34m)\u001b[0m\u001b[0;34m:\u001b[0m\u001b[0;34m\u001b[0m\u001b[0;34m\u001b[0m\u001b[0m\n\u001b[1;32m     14\u001b[0m   \u001b[0;31m# Returns all members of congress for a given congress number.\u001b[0m\u001b[0;34m\u001b[0m\u001b[0;34m\u001b[0m\u001b[0m\n\u001b[0;32m---> 15\u001b[0;31m   \u001b[0;32mreturn\u001b[0m \u001b[0mpd\u001b[0m\u001b[0;34m.\u001b[0m\u001b[0mconcat\u001b[0m\u001b[0;34m(\u001b[0m\u001b[0;34m[\u001b[0m\u001b[0mget_members\u001b[0m\u001b[0;34m(\u001b[0m\u001b[0mcongress_number\u001b[0m\u001b[0;34m,\u001b[0m \u001b[0;36m200\u001b[0m\u001b[0;34m*\u001b[0m\u001b[0mi\u001b[0m\u001b[0;34m,\u001b[0m \u001b[0;36m200\u001b[0m\u001b[0;34m*\u001b[0m\u001b[0;34m(\u001b[0m\u001b[0mi\u001b[0m\u001b[0;34m+\u001b[0m\u001b[0;36m1\u001b[0m\u001b[0;34m)\u001b[0m\u001b[0;34m)\u001b[0m \u001b[0;32mfor\u001b[0m \u001b[0mi\u001b[0m \u001b[0;32min\u001b[0m \u001b[0mrange\u001b[0m\u001b[0;34m(\u001b[0m\u001b[0;36m3\u001b[0m\u001b[0;34m)\u001b[0m\u001b[0;34m]\u001b[0m\u001b[0;34m)\u001b[0m\u001b[0;34m.\u001b[0m\u001b[0mreset_index\u001b[0m\u001b[0;34m(\u001b[0m\u001b[0mdrop\u001b[0m\u001b[0;34m=\u001b[0m\u001b[0;32mTrue\u001b[0m\u001b[0;34m)\u001b[0m\u001b[0;34m\u001b[0m\u001b[0;34m\u001b[0m\u001b[0m\n\u001b[0m\u001b[1;32m     16\u001b[0m \u001b[0;34m\u001b[0m\u001b[0m\n\u001b[1;32m     17\u001b[0m \u001b[0;32mdef\u001b[0m \u001b[0mparse_member\u001b[0m\u001b[0;34m(\u001b[0m\u001b[0mentry\u001b[0m\u001b[0;34m)\u001b[0m\u001b[0;34m:\u001b[0m\u001b[0;34m\u001b[0m\u001b[0;34m\u001b[0m\u001b[0m\n",
            "\u001b[0;32m<ipython-input-1-20431a54fc66>\u001b[0m in \u001b[0;36mget_members\u001b[0;34m(congress_number, first_index, last_index)\u001b[0m\n\u001b[1;32m      9\u001b[0m   \u001b[0mrequest\u001b[0m \u001b[0;34m=\u001b[0m \u001b[0;34mf\"https://api.congress.gov/v3/member/congress/{congress_number}?api_key={API_KEY}&offset={first_index}&limit={last_index - first_index}\"\u001b[0m\u001b[0;34m\u001b[0m\u001b[0;34m\u001b[0m\u001b[0m\n\u001b[1;32m     10\u001b[0m   \u001b[0mr\u001b[0m \u001b[0;34m=\u001b[0m \u001b[0mrequests\u001b[0m\u001b[0;34m.\u001b[0m\u001b[0mget\u001b[0m\u001b[0;34m(\u001b[0m\u001b[0mrequest\u001b[0m\u001b[0;34m)\u001b[0m\u001b[0;34m\u001b[0m\u001b[0;34m\u001b[0m\u001b[0m\n\u001b[0;32m---> 11\u001b[0;31m   \u001b[0;32mreturn\u001b[0m \u001b[0mparse_dataset\u001b[0m\u001b[0;34m(\u001b[0m\u001b[0mjson\u001b[0m\u001b[0;34m.\u001b[0m\u001b[0mloads\u001b[0m\u001b[0;34m(\u001b[0m\u001b[0mr\u001b[0m\u001b[0;34m.\u001b[0m\u001b[0mcontent\u001b[0m\u001b[0;34m)\u001b[0m\u001b[0;34m)\u001b[0m\u001b[0;34m\u001b[0m\u001b[0;34m\u001b[0m\u001b[0m\n\u001b[0m\u001b[1;32m     12\u001b[0m \u001b[0;34m\u001b[0m\u001b[0m\n\u001b[1;32m     13\u001b[0m \u001b[0;32mdef\u001b[0m \u001b[0mget_all_members\u001b[0m\u001b[0;34m(\u001b[0m\u001b[0mcongress_number\u001b[0m\u001b[0;34m)\u001b[0m\u001b[0;34m:\u001b[0m\u001b[0;34m\u001b[0m\u001b[0;34m\u001b[0m\u001b[0m\n",
            "\u001b[0;32m<ipython-input-1-20431a54fc66>\u001b[0m in \u001b[0;36mparse_dataset\u001b[0;34m(json_obj)\u001b[0m\n\u001b[1;32m     23\u001b[0m \u001b[0;34m\u001b[0m\u001b[0m\n\u001b[1;32m     24\u001b[0m \u001b[0;32mdef\u001b[0m \u001b[0mparse_dataset\u001b[0m\u001b[0;34m(\u001b[0m\u001b[0mjson_obj\u001b[0m\u001b[0;34m)\u001b[0m\u001b[0;34m:\u001b[0m\u001b[0;34m\u001b[0m\u001b[0;34m\u001b[0m\u001b[0m\n\u001b[0;32m---> 25\u001b[0;31m   \u001b[0mname\u001b[0m\u001b[0;34m,\u001b[0m \u001b[0mparty\u001b[0m\u001b[0;34m,\u001b[0m \u001b[0mchamber\u001b[0m \u001b[0;34m=\u001b[0m \u001b[0mzip\u001b[0m\u001b[0;34m(\u001b[0m\u001b[0;34m*\u001b[0m\u001b[0;34m[\u001b[0m\u001b[0mparse_member\u001b[0m\u001b[0;34m(\u001b[0m\u001b[0mentry\u001b[0m\u001b[0;34m)\u001b[0m \u001b[0;32mfor\u001b[0m \u001b[0mentry\u001b[0m \u001b[0;32min\u001b[0m \u001b[0mjson_obj\u001b[0m\u001b[0;34m[\u001b[0m\u001b[0;34m'members'\u001b[0m\u001b[0;34m]\u001b[0m\u001b[0;34m]\u001b[0m\u001b[0;34m)\u001b[0m\u001b[0;34m\u001b[0m\u001b[0;34m\u001b[0m\u001b[0m\n\u001b[0m\u001b[1;32m     26\u001b[0m   \u001b[0;32mreturn\u001b[0m \u001b[0mpd\u001b[0m\u001b[0;34m.\u001b[0m\u001b[0mDataFrame\u001b[0m\u001b[0;34m(\u001b[0m\u001b[0;34m{\u001b[0m\u001b[0;34m'name'\u001b[0m\u001b[0;34m:\u001b[0m \u001b[0mname\u001b[0m\u001b[0;34m,\u001b[0m \u001b[0;34m'party'\u001b[0m\u001b[0;34m:\u001b[0m \u001b[0mparty\u001b[0m\u001b[0;34m,\u001b[0m \u001b[0;34m'chamber'\u001b[0m\u001b[0;34m:\u001b[0m \u001b[0mchamber\u001b[0m\u001b[0;34m}\u001b[0m\u001b[0;34m)\u001b[0m\u001b[0;34m\u001b[0m\u001b[0;34m\u001b[0m\u001b[0m\n\u001b[1;32m     27\u001b[0m \u001b[0;34m\u001b[0m\u001b[0m\n",
            "\u001b[0;31mKeyError\u001b[0m: 'members'"
          ]
        }
      ]
    },
    {
      "cell_type": "code",
      "source": [
        "#@title Getting data using pandas_datareader\n",
        "import pandas as pd\n",
        "import pandas_datareader.data as web\n",
        "import datetime\n",
        "\n",
        "def get_us_gdp_growth(years=60):\n",
        "    \"\"\"\n",
        "    Retrieves US GDP growth data from FRED (Federal Reserve Economic Data)\n",
        "    for the specified number of years and returns it as a pandas DataFrame.\n",
        "\n",
        "    Args:\n",
        "        years (int): The number of years to retrieve data for.\n",
        "\n",
        "    Returns:\n",
        "        pandas.DataFrame: A DataFrame with the GDP growth data, or None if an error occurs.\n",
        "    \"\"\"\n",
        "    try:\n",
        "        end = datetime.datetime.now()\n",
        "        start = end - datetime.timedelta(days=years * 365) #approximate\n",
        "\n",
        "        # GDP growth (annual %) from FRED\n",
        "        df = web.DataReader('A191RL1Q225SBEA', 'fred', start, end)\n",
        "\n",
        "        # Convert to annual data\n",
        "        df_annual = df.resample('Y').mean()\n",
        "\n",
        "        # Rename the column\n",
        "        df_annual.columns = ['GDP Growth (Annual %)']\n",
        "\n",
        "        # Drop any potential future years if the data is updated frequently.\n",
        "        df_annual = df_annual[df_annual.index.year <= end.year]\n",
        "\n",
        "        return df_annual\n",
        "\n",
        "    except Exception as e:\n",
        "        print(f\"An error occurred: {e}\")\n",
        "        return None\n",
        "\n",
        "# Get the GDP growth data for the past 60 years\n",
        "gdp_growth_df = get_us_gdp_growth(60)"
      ],
      "metadata": {
        "id": "QoIW-r05S88C",
        "colab": {
          "base_uri": "https://localhost:8080/"
        },
        "outputId": "e3e5b8f1-29a3-4b66-c1dc-2d4c29aad7e1"
      },
      "execution_count": null,
      "outputs": [
        {
          "output_type": "stream",
          "name": "stderr",
          "text": [
            "<ipython-input-1-8b03fc0552bd>:24: FutureWarning: 'Y' is deprecated and will be removed in a future version, please use 'YE' instead.\n",
            "  df_annual = df.resample('Y').mean()\n"
          ]
        }
      ]
    },
    {
      "cell_type": "code",
      "source": [
        "start = datetime.datetime(1950, 1, 1)  # Example start date\n",
        "end = datetime.datetime.now()\n",
        "\n",
        "unemployment_data = web.DataReader('UNRATE', 'fred', start, end)\n",
        "\n",
        "print(unemployment_data)"
      ],
      "metadata": {
        "colab": {
          "base_uri": "https://localhost:8080/"
        },
        "id": "LP7mjTmKXa7U",
        "outputId": "f20495e0-182e-442a-9d24-7c4f9258721e"
      },
      "execution_count": null,
      "outputs": [
        {
          "output_type": "stream",
          "name": "stdout",
          "text": [
            "            UNRATE\n",
            "DATE              \n",
            "1950-01-01     6.5\n",
            "1950-02-01     6.4\n",
            "1950-03-01     6.3\n",
            "1950-04-01     5.8\n",
            "1950-05-01     5.5\n",
            "...            ...\n",
            "2024-10-01     4.1\n",
            "2024-11-01     4.2\n",
            "2024-12-01     4.1\n",
            "2025-01-01     4.0\n",
            "2025-02-01     4.1\n",
            "\n",
            "[902 rows x 1 columns]\n"
          ]
        }
      ]
    },
    {
      "cell_type": "code",
      "source": [
        "import seaborn as sns\n",
        "sns.lineplot(data=unemployment_data, x = 'DATE', y = 'UNRATE')"
      ],
      "metadata": {
        "colab": {
          "base_uri": "https://localhost:8080/",
          "height": 467
        },
        "id": "Ihw6E3uOZwYe",
        "outputId": "389dca64-0bea-4035-9141-e5fbdb829883"
      },
      "execution_count": null,
      "outputs": [
        {
          "output_type": "execute_result",
          "data": {
            "text/plain": [
              "<Axes: xlabel='DATE', ylabel='UNRATE'>"
            ]
          },
          "metadata": {},
          "execution_count": 29
        },
        {
          "output_type": "display_data",
          "data": {
            "text/plain": [
              "<Figure size 640x480 with 1 Axes>"
            ],
            "image/png": "[encoded data removed]"
          },
          "metadata": {}
        }
      ]
    },
    {
      "cell_type": "code",
      "source": [],
      "metadata": {
        "id": "XCixNALyZ3OM"
      },
      "execution_count": null,
      "outputs": []
    }
  ]
}