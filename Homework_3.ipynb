{
  "nbformat": 4,
  "nbformat_minor": 0,
  "metadata": {
    "colab": {
      "provenance": [],
      "authorship_tag": "ABX9TyMyyMlb0jRlNqBaaj8CyzmD",
      "include_colab_link": true
    },
    "kernelspec": {
      "name": "python3",
      "display_name": "Python 3"
    },
    "language_info": {
      "name": "python"
    }
  },
  "cells": [
    {
      "cell_type": "markdown",
      "metadata": {
        "id": "view-in-github",
        "colab_type": "text"
      },
      "source": [
        "<a href=\"https://colab.research.google.com/github/amunoz88/Applied_DS_2025/blob/main/Homework_3.ipynb\" target=\"_parent\"><img src=\"https://colab.research.google.com/assets/colab-badge.svg\" alt=\"Open In Colab\"/></a>"
      ]
    },
    {
      "cell_type": "code",
      "execution_count": null,
      "metadata": {
        "id": "E9fvX7Bx8OXO"
      },
      "outputs": [],
      "source": [
        "# Homework: Linear and Logistic Regression\n",
        "\n",
        "# Instructions:\n",
        "# 1. Answer all questions to the best of your ability.\n",
        "# 2. For questions involving code, provide the code and the output.\n",
        "# 3. For theoretical questions, provide clear and concise explanations.\n",
        "# 4. You are allowed to use Python libraries such as statsmodels, numpy, and pandas.\n",
        "\n",
        "import numpy as np\n",
        "import pandas as pd\n",
        "import statsmodels.api as sm\n",
        "import statsmodels.formula.api as smf\n",
        "\n",
        "# 1. Theoretical Understanding of Linear Regression\n",
        "\n",
        "# Question 1:\n",
        "# Describe the linear regression model incluing:\n",
        "#   1. What is the relationship between the target variable and the feature variables\n",
        "#   2. What is the assumption in the relationship between different examples\n",
        "#   3. What is the assumption on the noise variable?\n",
        "\n",
        "# 2. Practical Application of Linear Regression\n",
        "\n",
        "# Question 2:\n",
        "# You are given a dataset containing the following columns: 'Years of Experience' and 'Salary'.\n",
        "# Create a simple linear regression model to predict salary based on years of experience.\n",
        "# Use the following data:\n",
        "data_lr = pd.DataFrame({'Years of Experience': [1, 2, 3, 4, 5, 6, 7, 8, 9, 10],\n",
        "                        'Salary': [30000, 35000, 40000, 45000, 50000, 60000, 65000, 70000, 80000, 85000]})\n",
        "# a) Fit the model using statsmodels.\n",
        "# b) Print the summary of the model.\n",
        "# c) Assuming the model is a good adaptation of the dataset, interpret the coefficient of 'Years of Experience'.\n",
        "# d) Predict the salary for someone with 12 years of experience.\n",
        "\n",
        "# 3. Theoretical Understanding of Logistic Regression\n",
        "\n",
        "# Question 3:\n",
        "# Explain the purpose of logistic regression. How does it differ from linear regression?\n",
        "# (Focus on the type of dependent variable and the function used for prediction.)\n",
        "\n",
        "# Question 4:\n",
        "# Explain the concept of the odds ratio in logistic regression. How is it related to the coefficients of the model?\n",
        "\n",
        "# 4. Practical Application of Logistic Regression\n",
        "\n",
        "# Question 5:\n",
        "# You are given a dataset containing the following columns: 'Hours Studied' and 'Pass/Fail' (1 for pass, 0 for fail).\n",
        "# Create a logistic regression model to predict the probability of passing based on hours studied.\n",
        "# Use the following data:\n",
        "data_logr = pd.DataFrame({'Hours Studied': [1, 2, 3, 4, 5, 6, 7, 8, 9, 10],\n",
        "                         'Pass/Fail': [0, 0, 0, 0, 1, 1, 1, 1, 1, 1]})\n",
        "# a) Fit the model using statsmodels.\n",
        "# b) Print the summary of the model.\n",
        "# c) Interpret the coefficient of 'Hours Studied'.\n",
        "# d) Predict the probability of passing for someone who studied for 4 hours and for someone who studied 8 hours.\n",
        "\n",
        "# 5. Model Evaluation and Interpretation\n",
        "\n",
        "# Question 6:\n",
        "# In linear regression what is the R^2. What is the interpretation?\n",
        "\n",
        "# Question 7:\n",
        "# In logistic regression, what are 3 metrics that are normally used for evaluating the quality of the model?\n",
        "\n",
        "# 6. Interaction and Polynomial Terms\n",
        "\n",
        "# Question 8:\n",
        "# You have a linear regression model with 'X1', 'X2', and 'X3' as independent variables.\n",
        "# Explain how you would add an interaction term between 'X1' and 'X2' in statsmodels.\n",
        "# (Provide example code using a hypothetical dataframe and formula.)\n",
        "\n",
        "# Question 9:\n",
        "# You have a linear regression model with 'X' as an independent variable.\n",
        "# Explain how you would add a polynomial term (e.g., X^2) in statsmodels.\n",
        "# (Provide example code using a hypothetical dataframe and formula.)\n",
        "\n"
      ]
    }
  ]
}