{
  "nbformat": 4,
  "nbformat_minor": 0,
  "metadata": {
    "colab": {
      "provenance": [],
      "include_colab_link": true
    },
    "kernelspec": {
      "name": "python3",
      "display_name": "Python 3"
    },
    "language_info": {
      "name": "python"
    }
  },
  "cells": [
    {
      "cell_type": "markdown",
      "metadata": {
        "id": "view-in-github",
        "colab_type": "text"
      },
      "source": [
        "<a href=\"https://colab.research.google.com/github/amunoz88/Applied_DS_2025/blob/main/Kanon_implementation.ipynb\" target=\"_parent\"><img src=\"https://colab.research.google.com/assets/colab-badge.svg\" alt=\"Open In Colab\"/></a>"
      ]
    },
    {
      "cell_type": "code",
      "execution_count": null,
      "metadata": {
        "id": "2QyYV2SIMv-P"
      },
      "outputs": [],
      "source": [
        "import pandas as pd\n",
        "import dataclasses"
      ]
    },
    {
      "cell_type": "code",
      "source": [
        "data =pd.read_csv('/content/adult.csv')\n",
        "data['rounded_age'] = data['age']//10 * 10"
      ],
      "metadata": {
        "id": "ej-7dbo4M5uv"
      },
      "execution_count": null,
      "outputs": []
    },
    {
      "cell_type": "code",
      "source": [
        "data.occupation.unique()"
      ],
      "metadata": {
        "colab": {
          "base_uri": "https://localhost:8080/"
        },
        "id": "JC6V0nmtM_h2",
        "outputId": "91463ce3-8f78-44b7-e37a-262a3dac2a66"
      },
      "execution_count": null,
      "outputs": [
        {
          "output_type": "execute_result",
          "data": {
            "text/plain": [
              "array(['Machine-op-inspct', 'Farming-fishing', 'Protective-serv', '?',\n",
              "       'Other-service', 'Prof-specialty', 'Craft-repair', 'Adm-clerical',\n",
              "       'Exec-managerial', 'Tech-support', 'Sales', 'Priv-house-serv',\n",
              "       'Transport-moving', 'Handlers-cleaners', 'Armed-Forces'],\n",
              "      dtype=object)"
            ]
          },
          "metadata": {},
          "execution_count": 14
        }
      ]
    },
    {
      "cell_type": "code",
      "source": [
        "data_small = data[['rounded_age', 'gender', 'race', 'relationship', 'workclass', 'income']]"
      ],
      "metadata": {
        "id": "FbkCmLXsNW9Y"
      },
      "execution_count": null,
      "outputs": []
    },
    {
      "cell_type": "code",
      "source": [
        "data_small.loc[:, 'rounded_age'] = data_small.rounded_age.astype(str)"
      ],
      "metadata": {
        "id": "1pIDKManNsKx"
      },
      "execution_count": null,
      "outputs": []
    }
  ]
}