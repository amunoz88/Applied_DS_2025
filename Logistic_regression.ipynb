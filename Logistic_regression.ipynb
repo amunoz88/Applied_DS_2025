{
  "nbformat": 4,
  "nbformat_minor": 0,
  "metadata": {
    "colab": {
      "provenance": [],
      "mount_file_id": "19BNFKC2MdF8tXZkmsL0lo-j1RG74QUvV",
      "authorship_tag": "ABX9TyPogdk/p1zxmHTyFFnA9IBe",
      "include_colab_link": true
    },
    "kernelspec": {
      "name": "python3",
      "display_name": "Python 3"
    },
    "language_info": {
      "name": "python"
    }
  },
  "cells": [
    {
      "cell_type": "markdown",
      "metadata": {
        "id": "view-in-github",
        "colab_type": "text"
      },
      "source": [
        "<a href=\"https://colab.research.google.com/github/amunoz88/Applied_DS_2025/blob/main/Logistic_regression.ipynb\" target=\"_parent\"><img src=\"https://colab.research.google.com/assets/colab-badge.svg\" alt=\"Open In Colab\"/></a>"
      ]
    },
    {
      "cell_type": "code",
      "execution_count": 1,
      "metadata": {
        "id": "zqR-4PHnvCvI"
      },
      "outputs": [],
      "source": [
        "import pandas as pd\n",
        "import matplotlib.pyplot as plt\n",
        "import seaborn as sns\n",
        "import statsmodels.formula.api as smf\n",
        "import sklearn.metrics as skm\n",
        "import sklearn.compose as skc\n",
        "import sklearn.preprocessing as skp\n",
        "import matplotlib.pyplot as plt\n",
        "from scipy import stats"
      ]
    },
    {
      "cell_type": "code",
      "source": [
        "data = pd.read_csv(\"/content/drive/MyDrive/CUNY 2025/Datasets/poisson.csv\")\n",
        "print(data.X)\n",
        "plt.hist(data.X, bins=20, density=True)\n",
        "theta = np.mean(data.X)\n",
        "print(theta)\n",
        "probs = stats.poisson(theta).pmf(range(0,11))\n",
        "plt.plot(range(0,11), probs)"
      ],
      "metadata": {
        "colab": {
          "base_uri": "https://localhost:8080/",
          "height": 848
        },
        "id": "kDtmF4bJk99c",
        "outputId": "0e31e012-0716-4ae1-eb30-fb69a1cac10c"
      },
      "execution_count": 2,
      "outputs": [
        {
          "output_type": "stream",
          "name": "stdout",
          "text": [
            "0      3\n",
            "1      5\n",
            "2      5\n",
            "3      4\n",
            "4      4\n",
            "      ..\n",
            "995    4\n",
            "996    5\n",
            "997    4\n",
            "998    2\n",
            "999    1\n",
            "Name: X, Length: 1000, dtype: int64\n"
          ]
        },
        {
          "output_type": "error",
          "ename": "NameError",
          "evalue": "name 'np' is not defined",
          "traceback": [
            "\u001b[0;31m---------------------------------------------------------------------------\u001b[0m",
            "\u001b[0;31mNameError\u001b[0m                                 Traceback (most recent call last)",
            "\u001b[0;32m<ipython-input-2-653e0201b689>\u001b[0m in \u001b[0;36m<cell line: 0>\u001b[0;34m()\u001b[0m\n\u001b[1;32m      2\u001b[0m \u001b[0mprint\u001b[0m\u001b[0;34m(\u001b[0m\u001b[0mdata\u001b[0m\u001b[0;34m.\u001b[0m\u001b[0mX\u001b[0m\u001b[0;34m)\u001b[0m\u001b[0;34m\u001b[0m\u001b[0;34m\u001b[0m\u001b[0m\n\u001b[1;32m      3\u001b[0m \u001b[0mplt\u001b[0m\u001b[0;34m.\u001b[0m\u001b[0mhist\u001b[0m\u001b[0;34m(\u001b[0m\u001b[0mdata\u001b[0m\u001b[0;34m.\u001b[0m\u001b[0mX\u001b[0m\u001b[0;34m,\u001b[0m \u001b[0mbins\u001b[0m\u001b[0;34m=\u001b[0m\u001b[0;36m20\u001b[0m\u001b[0;34m,\u001b[0m \u001b[0mdensity\u001b[0m\u001b[0;34m=\u001b[0m\u001b[0;32mTrue\u001b[0m\u001b[0;34m)\u001b[0m\u001b[0;34m\u001b[0m\u001b[0;34m\u001b[0m\u001b[0m\n\u001b[0;32m----> 4\u001b[0;31m \u001b[0mtheta\u001b[0m \u001b[0;34m=\u001b[0m \u001b[0mnp\u001b[0m\u001b[0;34m.\u001b[0m\u001b[0mmean\u001b[0m\u001b[0;34m(\u001b[0m\u001b[0mdata\u001b[0m\u001b[0;34m.\u001b[0m\u001b[0mX\u001b[0m\u001b[0;34m)\u001b[0m\u001b[0;34m\u001b[0m\u001b[0;34m\u001b[0m\u001b[0m\n\u001b[0m\u001b[1;32m      5\u001b[0m \u001b[0mprint\u001b[0m\u001b[0;34m(\u001b[0m\u001b[0mtheta\u001b[0m\u001b[0;34m)\u001b[0m\u001b[0;34m\u001b[0m\u001b[0;34m\u001b[0m\u001b[0m\n\u001b[1;32m      6\u001b[0m \u001b[0mprobs\u001b[0m \u001b[0;34m=\u001b[0m \u001b[0mstats\u001b[0m\u001b[0;34m.\u001b[0m\u001b[0mpoisson\u001b[0m\u001b[0;34m(\u001b[0m\u001b[0mtheta\u001b[0m\u001b[0;34m)\u001b[0m\u001b[0;34m.\u001b[0m\u001b[0mpmf\u001b[0m\u001b[0;34m(\u001b[0m\u001b[0mrange\u001b[0m\u001b[0;34m(\u001b[0m\u001b[0;36m0\u001b[0m\u001b[0;34m,\u001b[0m\u001b[0;36m11\u001b[0m\u001b[0;34m)\u001b[0m\u001b[0;34m)\u001b[0m\u001b[0;34m\u001b[0m\u001b[0;34m\u001b[0m\u001b[0m\n",
            "\u001b[0;31mNameError\u001b[0m: name 'np' is not defined"
          ]
        },
        {
          "output_type": "display_data",
          "data": {
            "text/plain": [
              "<Figure size 640x480 with 1 Axes>"
            ],
            "image/png": "[encoded data removed]"
          },
          "metadata": {}
        }
      ]
    },
    {
      "cell_type": "markdown",
      "source": [
        "Visit https://www.kaggle.com/datasets/wenruliu/adult-income-dataset download the dataset and upload it to Colab\n"
      ],
      "metadata": {
        "id": "15qJWYqHw6fi"
      }
    },
    {
      "cell_type": "code",
      "source": [
        "import numpy as np\n",
        "# Replace with the correct path.\n",
        "data = pd.read_csv(\"/content/adult.csv\")\n",
        "data['label'] = data['income'].apply(lambda x: 1 if x == '>50K' else 0)\n",
        "data = data.drop('income', axis=1)\n",
        "#print(data)\n",
        "\n",
        "#Replace column names\n",
        "columns=data.columns\n",
        "columns = [c.replace(\"-\", \"_\") for c in columns]\n",
        "data.columns = columns\n",
        "\n",
        "NUMERICAL = ['fnlwgt','educational_num', 'capital_gain', 'capital_loss','age', 'hours_per_week']\n",
        "CATEGORICAL = list(set(data.columns) - set(NUMERICAL))\n",
        "CATEGORICAL.remove('label')\n",
        "\n",
        "# Transform data in columns to have mean zero and standard deviation 1. This\n",
        "# seems to help a bit with the numerical instability issues. In class we did\n",
        "# MinMax Scaler but this seems to work better.\n",
        "column_transformer = skc.ColumnTransformer(\n",
        "    [('std', skp.StandardScaler(), NUMERICAL)],\n",
        "    remainder='passthrough',\n",
        "    verbose_feature_names_out=False\n",
        ")\n",
        "\n",
        "\n",
        "data = pd.DataFrame(column_transformer.fit_transform(data), columns=column_transformer.get_feature_names_out())\n",
        "features = []\n",
        "\n",
        "print(np.mean(data.capital_loss))\n",
        "#Create formula\n",
        "data = data.drop('workclass', axis=1)\n",
        "\n",
        "for c in data.columns:\n",
        "  if c == 'label':\n",
        "    continue\n",
        "  features.append(c)\n",
        "\n",
        "  model_string =  'label~' + \"+\".join(features)\n",
        "\n",
        "# Transformer makes columns into objects. We remap them to floats.\n",
        "for c  in NUMERICAL:\n",
        "  data[c] = data[c].astype(float)\n",
        "data.label = data.label.astype(int)\n",
        "\n",
        "# LBFGS is an optimization method that usually works well.\n",
        "# Number of iterations is the number of iterations for the optimization method.\n",
        "print(smf.logit(model_string,data).fit(maxiter=500, method='lbfgs').summary())\n",
        "\n"
      ],
      "metadata": {
        "colab": {
          "base_uri": "https://localhost:8080/"
        },
        "id": "Rnkdh_79v0EK",
        "outputId": "41692c29-01da-48ee-c359-22b84fe4c9d5"
      },
      "execution_count": 23,
      "outputs": [
        {
          "output_type": "stream",
          "name": "stdout",
          "text": [
            "7.617581999352657e-17\n",
            "                           Logit Regression Results                           \n",
            "==============================================================================\n",
            "Dep. Variable:                  label   No. Observations:                48842\n",
            "Model:                          Logit   Df Residuals:                    48750\n",
            "Method:                           MLE   Df Model:                           91\n",
            "Date:                Wed, 12 Mar 2025   Pseudo R-squ.:                  0.4220\n",
            "Time:                        14:16:53   Log-Likelihood:                -15534.\n",
            "converged:                       True   LL-Null:                       -26875.\n",
            "Covariance Type:            nonrobust   LLR p-value:                     0.000\n",
            "================================================================================================================\n",
            "                                                   coef    std err          z      P>|z|      [0.025      0.975]\n",
            "----------------------------------------------------------------------------------------------------------------\n",
            "Intercept                                       -4.8131   7.02e+05  -6.86e-06      1.000   -1.38e+06    1.38e+06\n",
            "education[T.11th]                               -0.2263   1.72e+05  -1.31e-06      1.000   -3.37e+05    3.37e+05\n",
            "education[T.12th]                               -0.1325   3.44e+05  -3.85e-07      1.000   -6.75e+05    6.75e+05\n",
            "education[T.1st-4th]                             0.7736   6.88e+05   1.12e-06      1.000   -1.35e+06    1.35e+06\n",
            "education[T.5th-6th]                             0.8682   5.16e+05   1.68e-06      1.000   -1.01e+06    1.01e+06\n",
            "education[T.7th-8th]                             0.2306   3.44e+05    6.7e-07      1.000   -6.75e+05    6.75e+05\n",
            "education[T.9th]                                 0.1362   1.72e+05   7.91e-07      1.000   -3.37e+05    3.37e+05\n",
            "education[T.Assoc-acdm]                         -0.5382   1.03e+06  -5.21e-07      1.000   -2.02e+06    2.02e+06\n",
            "education[T.Assoc-voc]                          -0.2977   8.61e+05  -3.46e-07      1.000   -1.69e+06    1.69e+06\n",
            "education[T.Bachelors]                          -0.3431    1.2e+06  -2.85e-07      1.000   -2.36e+06    2.36e+06\n",
            "education[T.Doctorate]                          -0.5041   1.72e+06  -2.93e-07      1.000   -3.37e+06    3.37e+06\n",
            "education[T.HS-grad]                            -0.1249   5.16e+05  -2.42e-07      1.000   -1.01e+06    1.01e+06\n",
            "education[T.Masters]                            -0.3604   1.38e+06  -2.62e-07      1.000    -2.7e+06     2.7e+06\n",
            "education[T.Preschool]                          -1.4511   8.61e+05  -1.69e-06      1.000   -1.69e+06    1.69e+06\n",
            "education[T.Prof-school]                        -0.2355   1.55e+06  -1.52e-07      1.000   -3.04e+06    3.04e+06\n",
            "education[T.Some-college]                       -0.0877   6.88e+05  -1.27e-07      1.000   -1.35e+06    1.35e+06\n",
            "marital_status[T.Married-AF-spouse]              2.4595      0.461      5.340      0.000       1.557       3.362\n",
            "marital_status[T.Married-civ-spouse]             2.3109      0.217     10.657      0.000       1.886       2.736\n",
            "marital_status[T.Married-spouse-absent]          0.1447      0.179      0.806      0.420      -0.207       0.496\n",
            "marital_status[T.Never-married]                 -0.4214      0.072     -5.888      0.000      -0.562      -0.281\n",
            "marital_status[T.Separated]                     -0.0592      0.133     -0.444      0.657      -0.320       0.202\n",
            "marital_status[T.Widowed]                        0.0948      0.126      0.755      0.450      -0.151       0.341\n",
            "occupation[T.Adm-clerical]                       0.7784      0.096      8.103      0.000       0.590       0.967\n",
            "occupation[T.Armed-Forces]                       1.8859      0.770      2.448      0.014       0.376       3.396\n",
            "occupation[T.Craft-repair]                       0.7504      0.091      8.239      0.000       0.572       0.929\n",
            "occupation[T.Exec-managerial]                    1.4688      0.090     16.342      0.000       1.293       1.645\n",
            "occupation[T.Farming-fishing]                   -0.5246      0.129     -4.068      0.000      -0.777      -0.272\n",
            "occupation[T.Handlers-cleaners]                  0.0618      0.131      0.473      0.637      -0.194       0.318\n",
            "occupation[T.Machine-op-inspct]                  0.4324      0.105      4.128      0.000       0.227       0.638\n",
            "occupation[T.Other-service]                     -0.1899      0.116     -1.635      0.102      -0.418       0.038\n",
            "occupation[T.Priv-house-serv]                   -1.2397      0.753     -1.647      0.100      -2.715       0.236\n",
            "occupation[T.Prof-specialty]                     1.2131      0.092     13.209      0.000       1.033       1.393\n",
            "occupation[T.Protective-serv]                    1.1188      0.118      9.493      0.000       0.888       1.350\n",
            "occupation[T.Sales]                              0.9439      0.092     10.225      0.000       0.763       1.125\n",
            "occupation[T.Tech-support]                       1.3038      0.111     11.718      0.000       1.086       1.522\n",
            "occupation[T.Transport-moving]                   0.5973      0.103      5.813      0.000       0.396       0.799\n",
            "relationship[T.Not-in-family]                    0.5533      0.215      2.577      0.010       0.133       0.974\n",
            "relationship[T.Other-relative]                  -0.5252      0.199     -2.642      0.008      -0.915      -0.136\n",
            "relationship[T.Own-child]                       -0.5725      0.210     -2.725      0.006      -0.984      -0.161\n",
            "relationship[T.Unmarried]                        0.3677      0.228      1.610      0.107      -0.080       0.815\n",
            "relationship[T.Wife]                             1.1139      0.083     13.461      0.000       0.952       1.276\n",
            "race[T.Asian-Pac-Islander]                       0.7629      0.216      3.525      0.000       0.339       1.187\n",
            "race[T.Black]                                    0.2905      0.187      1.552      0.121      -0.076       0.657\n",
            "race[T.Other]                                    0.4848      0.269      1.800      0.072      -0.043       1.013\n",
            "race[T.White]                                    0.5099      0.177      2.873      0.004       0.162       0.858\n",
            "gender[T.Male]                                   0.7139      0.064     11.219      0.000       0.589       0.839\n",
            "native_country[T.Cambodia]                       0.8735      0.531      1.645      0.100      -0.167       1.914\n",
            "native_country[T.Canada]                         0.6062      0.234      2.588      0.010       0.147       1.065\n",
            "native_country[T.China]                         -0.6481      0.309     -2.095      0.036      -1.255      -0.042\n",
            "native_country[T.Columbia]                      -2.0353      0.628     -3.239      0.001      -3.267      -0.804\n",
            "native_country[T.Cuba]                           0.2502      0.281      0.891      0.373      -0.300       0.800\n",
            "native_country[T.Dominican-Republic]            -0.9772      0.560     -1.746      0.081      -2.074       0.120\n",
            "native_country[T.Ecuador]                       -0.3372      0.575     -0.586      0.558      -1.465       0.791\n",
            "native_country[T.El-Salvador]                   -0.4198      0.422     -0.994      0.320      -1.248       0.408\n",
            "native_country[T.England]                        0.5337      0.289      1.845      0.065      -0.033       1.101\n",
            "native_country[T.France]                         0.8037      0.449      1.791      0.073      -0.076       1.683\n",
            "native_country[T.Germany]                        0.1775      0.242      0.732      0.464      -0.298       0.653\n",
            "native_country[T.Greece]                        -0.0646      0.384     -0.168      0.866      -0.817       0.688\n",
            "native_country[T.Guatemala]                     -0.4320      0.715     -0.604      0.546      -1.834       0.970\n",
            "native_country[T.Haiti]                          0.2907      0.474      0.614      0.539      -0.638       1.219\n",
            "native_country[T.Holand-Netherlands]            -0.0427      8.458     -0.005      0.996     -16.619      16.534\n",
            "native_country[T.Honduras]                      -0.0189      1.114     -0.017      0.986      -2.203       2.165\n",
            "native_country[T.Hong]                          -0.4898      0.586     -0.836      0.403      -1.638       0.658\n",
            "native_country[T.Hungary]                        0.2985      0.582      0.513      0.608      -0.841       1.438\n",
            "native_country[T.India]                         -0.2155      0.264     -0.817      0.414      -0.732       0.301\n",
            "native_country[T.Iran]                          -0.0280      0.377     -0.074      0.941      -0.767       0.711\n",
            "native_country[T.Ireland]                        1.1346      0.484      2.345      0.019       0.186       2.083\n",
            "native_country[T.Italy]                          0.6669      0.290      2.303      0.021       0.099       1.234\n",
            "native_country[T.Jamaica]                        0.2792      0.389      0.718      0.473      -0.483       1.041\n",
            "native_country[T.Japan]                         -0.0751      0.340     -0.221      0.825      -0.741       0.591\n",
            "native_country[T.Laos]                          -1.3324      0.877     -1.519      0.129      -3.051       0.387\n",
            "native_country[T.Mexico]                        -0.6677      0.215     -3.104      0.002      -1.089      -0.246\n",
            "native_country[T.Nicaragua]                     -0.5134      0.652     -0.788      0.431      -1.791       0.764\n",
            "native_country[T.Outlying-US(Guam-USVI-etc)]    -0.8290      1.079     -0.768      0.442      -2.945       1.287\n",
            "native_country[T.Peru]                          -0.7622      0.612     -1.245      0.213      -1.962       0.438\n",
            "native_country[T.Philippines]                    0.3103      0.230      1.348      0.178      -0.141       0.761\n",
            "native_country[T.Poland]                         0.0432      0.344      0.126      0.900      -0.631       0.718\n",
            "native_country[T.Portugal]                       0.7785      0.391      1.991      0.046       0.012       1.545\n",
            "native_country[T.Puerto-Rico]                   -0.1106      0.314     -0.353      0.724      -0.726       0.504\n",
            "native_country[T.Scotland]                      -0.9419      0.728     -1.294      0.196      -2.368       0.484\n",
            "native_country[T.South]                         -1.2464      0.371     -3.364      0.001      -1.973      -0.520\n",
            "native_country[T.Taiwan]                        -0.0745      0.404     -0.185      0.853      -0.866       0.717\n",
            "native_country[T.Thailand]                      -0.8874      0.669     -1.326      0.185      -2.200       0.425\n",
            "native_country[T.Trinadad&Tobago]               -1.0949      0.827     -1.323      0.186      -2.717       0.527\n",
            "native_country[T.United-States]                  0.2365      0.112      2.106      0.035       0.016       0.457\n",
            "native_country[T.Vietnam]                       -1.2292      0.509     -2.415      0.016      -2.227      -0.232\n",
            "native_country[T.Yugoslavia]                     0.7503      0.567      1.324      0.186      -0.360       1.861\n",
            "fnlwgt                                           0.0817      0.015      5.567      0.000       0.053       0.111\n",
            "educational_num                                  0.8585   4.43e+05   1.94e-06      1.000   -8.67e+05    8.67e+05\n",
            "capital_gain                                     2.3642      0.063     37.686      0.000       2.241       2.487\n",
            "capital_loss                                     0.2611      0.012     21.510      0.000       0.237       0.285\n",
            "age                                              0.3282      0.018     18.099      0.000       0.293       0.364\n",
            "hours_per_week                                   0.3557      0.016     22.222      0.000       0.324       0.387\n",
            "================================================================================================================\n"
          ]
        }
      ]
    },
    {
      "cell_type": "code",
      "source": [
        "\n",
        "features = []\n",
        "train_accuracy = []\n",
        "test_accuracy = []\n",
        "for i,c in enumerate(train.columns):\n",
        "  if c == 'label':\n",
        "    continue\n",
        "  features.append(c)\n",
        "  print(features)\n",
        "\n",
        "  model_string =  'label~' + \"+\".join(features)\n",
        "  print(model_string)\n",
        "  model = smf.logit(model_string,train).fit(maxiter=100, method='lbfgs', regu)\n",
        "  train_accuracy.append(skm.accuracy_score(train['label'], model.predict(train) > 0.5))\n",
        "  test_accuracy.append(skm.accuracy_score(test['label'], model.predict(test) > 0.5))"
      ],
      "metadata": {
        "colab": {
          "base_uri": "https://localhost:8080/"
        },
        "id": "PCQ9STGCx4LH",
        "outputId": "cd1dd36d-03f4-4bf3-9131-ac51ce7f7998"
      },
      "execution_count": null,
      "outputs": [
        {
          "output_type": "stream",
          "name": "stdout",
          "text": [
            "['fnlwgt']\n",
            "label~fnlwgt\n",
            "['fnlwgt', 'educational_num']\n",
            "label~fnlwgt+educational_num\n",
            "['fnlwgt', 'educational_num', 'capital_gain']\n",
            "label~fnlwgt+educational_num+capital_gain\n",
            "['fnlwgt', 'educational_num', 'capital_gain', 'capital_loss']\n",
            "label~fnlwgt+educational_num+capital_gain+capital_loss\n",
            "['fnlwgt', 'educational_num', 'capital_gain', 'capital_loss', 'age']\n",
            "label~fnlwgt+educational_num+capital_gain+capital_loss+age\n",
            "['fnlwgt', 'educational_num', 'capital_gain', 'capital_loss', 'age', 'hours_per_week']\n",
            "label~fnlwgt+educational_num+capital_gain+capital_loss+age+hours_per_week\n",
            "['fnlwgt', 'educational_num', 'capital_gain', 'capital_loss', 'age', 'hours_per_week', 'workclass']\n",
            "label~fnlwgt+educational_num+capital_gain+capital_loss+age+hours_per_week+workclass\n",
            "['fnlwgt', 'educational_num', 'capital_gain', 'capital_loss', 'age', 'hours_per_week', 'workclass', 'education']\n",
            "label~fnlwgt+educational_num+capital_gain+capital_loss+age+hours_per_week+workclass+education\n"
          ]
        },
        {
          "output_type": "stream",
          "name": "stderr",
          "text": [
            "/usr/local/lib/python3.11/dist-packages/statsmodels/base/model.py:595: HessianInversionWarning: Inverting hessian failed, no bse or cov_params available\n",
            "  warnings.warn('Inverting hessian failed, no bse or cov_params '\n"
          ]
        },
        {
          "output_type": "stream",
          "name": "stdout",
          "text": [
            "['fnlwgt', 'educational_num', 'capital_gain', 'capital_loss', 'age', 'hours_per_week', 'workclass', 'education', 'marital_status']\n",
            "label~fnlwgt+educational_num+capital_gain+capital_loss+age+hours_per_week+workclass+education+marital_status\n"
          ]
        },
        {
          "output_type": "stream",
          "name": "stderr",
          "text": [
            "/usr/local/lib/python3.11/dist-packages/statsmodels/base/model.py:607: ConvergenceWarning: Maximum Likelihood optimization failed to converge. Check mle_retvals\n",
            "  warnings.warn(\"Maximum Likelihood optimization failed to \"\n"
          ]
        },
        {
          "output_type": "stream",
          "name": "stdout",
          "text": [
            "['fnlwgt', 'educational_num', 'capital_gain', 'capital_loss', 'age', 'hours_per_week', 'workclass', 'education', 'marital_status', 'occupation']\n",
            "label~fnlwgt+educational_num+capital_gain+capital_loss+age+hours_per_week+workclass+education+marital_status+occupation\n"
          ]
        },
        {
          "output_type": "stream",
          "name": "stderr",
          "text": [
            "/usr/local/lib/python3.11/dist-packages/statsmodels/base/model.py:595: HessianInversionWarning: Inverting hessian failed, no bse or cov_params available\n",
            "  warnings.warn('Inverting hessian failed, no bse or cov_params '\n"
          ]
        },
        {
          "output_type": "stream",
          "name": "stdout",
          "text": [
            "['fnlwgt', 'educational_num', 'capital_gain', 'capital_loss', 'age', 'hours_per_week', 'workclass', 'education', 'marital_status', 'occupation', 'relationship']\n",
            "label~fnlwgt+educational_num+capital_gain+capital_loss+age+hours_per_week+workclass+education+marital_status+occupation+relationship\n"
          ]
        },
        {
          "output_type": "stream",
          "name": "stderr",
          "text": [
            "/usr/local/lib/python3.11/dist-packages/statsmodels/base/model.py:607: ConvergenceWarning: Maximum Likelihood optimization failed to converge. Check mle_retvals\n",
            "  warnings.warn(\"Maximum Likelihood optimization failed to \"\n"
          ]
        },
        {
          "output_type": "stream",
          "name": "stdout",
          "text": [
            "['fnlwgt', 'educational_num', 'capital_gain', 'capital_loss', 'age', 'hours_per_week', 'workclass', 'education', 'marital_status', 'occupation', 'relationship', 'race']\n",
            "label~fnlwgt+educational_num+capital_gain+capital_loss+age+hours_per_week+workclass+education+marital_status+occupation+relationship+race\n"
          ]
        },
        {
          "output_type": "stream",
          "name": "stderr",
          "text": [
            "/usr/local/lib/python3.11/dist-packages/statsmodels/base/model.py:595: HessianInversionWarning: Inverting hessian failed, no bse or cov_params available\n",
            "  warnings.warn('Inverting hessian failed, no bse or cov_params '\n",
            "/usr/local/lib/python3.11/dist-packages/statsmodels/base/model.py:607: ConvergenceWarning: Maximum Likelihood optimization failed to converge. Check mle_retvals\n",
            "  warnings.warn(\"Maximum Likelihood optimization failed to \"\n"
          ]
        },
        {
          "output_type": "stream",
          "name": "stdout",
          "text": [
            "['fnlwgt', 'educational_num', 'capital_gain', 'capital_loss', 'age', 'hours_per_week', 'workclass', 'education', 'marital_status', 'occupation', 'relationship', 'race', 'gender']\n",
            "label~fnlwgt+educational_num+capital_gain+capital_loss+age+hours_per_week+workclass+education+marital_status+occupation+relationship+race+gender\n"
          ]
        },
        {
          "output_type": "stream",
          "name": "stderr",
          "text": [
            "/usr/local/lib/python3.11/dist-packages/statsmodels/base/model.py:595: HessianInversionWarning: Inverting hessian failed, no bse or cov_params available\n",
            "  warnings.warn('Inverting hessian failed, no bse or cov_params '\n",
            "/usr/local/lib/python3.11/dist-packages/statsmodels/base/model.py:607: ConvergenceWarning: Maximum Likelihood optimization failed to converge. Check mle_retvals\n",
            "  warnings.warn(\"Maximum Likelihood optimization failed to \"\n"
          ]
        },
        {
          "output_type": "stream",
          "name": "stdout",
          "text": [
            "['fnlwgt', 'educational_num', 'capital_gain', 'capital_loss', 'age', 'hours_per_week', 'workclass', 'education', 'marital_status', 'occupation', 'relationship', 'race', 'gender', 'native_country']\n",
            "label~fnlwgt+educational_num+capital_gain+capital_loss+age+hours_per_week+workclass+education+marital_status+occupation+relationship+race+gender+native_country\n"
          ]
        },
        {
          "output_type": "stream",
          "name": "stderr",
          "text": [
            "/usr/local/lib/python3.11/dist-packages/statsmodels/base/model.py:595: HessianInversionWarning: Inverting hessian failed, no bse or cov_params available\n",
            "  warnings.warn('Inverting hessian failed, no bse or cov_params '\n",
            "/usr/local/lib/python3.11/dist-packages/statsmodels/base/model.py:607: ConvergenceWarning: Maximum Likelihood optimization failed to converge. Check mle_retvals\n",
            "  warnings.warn(\"Maximum Likelihood optimization failed to \"\n"
          ]
        }
      ]
    },
    {
      "cell_type": "code",
      "source": [
        "plt.plot(train_accuracy, label='train')\n",
        "plt.plot(test_accuracy, label='test')\n",
        "plt.legend()"
      ],
      "metadata": {
        "colab": {
          "base_uri": "https://localhost:8080/",
          "height": 448
        },
        "id": "fSPFV48Q8BFn",
        "outputId": "ffb76c93-33c5-4046-d2e2-98ec52109d33"
      },
      "execution_count": null,
      "outputs": [
        {
          "output_type": "execute_result",
          "data": {
            "text/plain": [
              "<matplotlib.legend.Legend at 0x7a084afe0690>"
            ]
          },
          "metadata": {},
          "execution_count": 42
        },
        {
          "output_type": "display_data",
          "data": {
            "text/plain": [
              "<Figure size 640x480 with 1 Axes>"
            ],
            "image/png": "[encoded data removed]"
          },
          "metadata": {}
        }
      ]
    },
    {
      "cell_type": "code",
      "source": [
        "from sklearn.linear_model import LogisticRegression\n",
        "\n",
        "column_transformer = skc.ColumnTransformer(\n",
        "    [('minmax', skp.MinMaxScaler(), NUMERICAL),\n",
        "     ('cat', skp.OneHotEncoder(), CATEGORICAL)],\n",
        "    remainder='drop',\n",
        "    verbose_feature_names_out=False\n",
        ")\n",
        "\n",
        "transformed_data = column_transformer.fit_transform(train)\n",
        "print(transformed_data.shape)\n",
        "\n",
        "test_transformed_data = column_transformer.transform(test)\n",
        "print(test_transformed_data.shape)\n",
        "model = LogisticRegression(C= 100).fit(transformed_data, train.label.values)"
      ],
      "metadata": {
        "colab": {
          "base_uri": "https://localhost:8080/"
        },
        "id": "Gb1sXVmB-CmI",
        "outputId": "e15c792b-9a3b-4f67-c592-40b7c02c3578"
      },
      "execution_count": null,
      "outputs": [
        {
          "output_type": "stream",
          "name": "stdout",
          "text": [
            "(39074, 107)\n",
            "(9768, 107)\n"
          ]
        }
      ]
    },
    {
      "cell_type": "code",
      "source": [
        "print(model.predict_proba(test_transformed_data))\n",
        "skm.accuracy_score(test.label.values, model.predict(test_transformed_data))\n",
        "skm.RocCurveDisplay.from_predictions(test.label.values, model.predict_proba(test_transformed_data)[:,1])"
      ],
      "metadata": {
        "colab": {
          "base_uri": "https://localhost:8080/",
          "height": 595
        },
        "id": "DT83a3Hp6rg2",
        "outputId": "edb2f217-1427-421d-aa5f-50009a7e18c4"
      },
      "execution_count": null,
      "outputs": [
        {
          "output_type": "stream",
          "name": "stdout",
          "text": [
            "[[0.57260712 0.42739288]\n",
            " [0.99647758 0.00352242]\n",
            " [0.98074569 0.01925431]\n",
            " ...\n",
            " [0.96444187 0.03555813]\n",
            " [0.99553636 0.00446364]\n",
            " [0.00498352 0.99501648]]\n"
          ]
        },
        {
          "output_type": "execute_result",
          "data": {
            "text/plain": [
              "<sklearn.metrics._plot.roc_curve.RocCurveDisplay at 0x7a084df0bcd0>"
            ]
          },
          "metadata": {},
          "execution_count": 86
        },
        {
          "output_type": "display_data",
          "data": {
            "text/plain": [
              "<Figure size 640x480 with 1 Axes>"
            ],
            "image/png": "[encoded data removed]"
          },
          "metadata": {}
        }
      ]
    },
    {
      "cell_type": "code",
      "source": [
        "skm.roc_auc_score(data['label'], model.predict(data))\n",
        "skm.accuracy_score(data['label'], model.predict(data) > 0.5)"
      ],
      "metadata": {
        "colab": {
          "base_uri": "https://localhost:8080/"
        },
        "id": "4ulR7s_zympm",
        "outputId": "56930317-278a-4922-fe53-5896513cdde5"
      },
      "execution_count": null,
      "outputs": [
        {
          "output_type": "execute_result",
          "data": {
            "text/plain": [
              "0.7607182343065395"
            ]
          },
          "metadata": {},
          "execution_count": 16
        }
      ]
    },
    {
      "cell_type": "code",
      "source": [],
      "metadata": {
        "id": "E9-IiiNp0tCJ"
      },
      "execution_count": null,
      "outputs": []
    }
  ]
}