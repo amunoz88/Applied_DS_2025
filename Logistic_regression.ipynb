{
  "nbformat": 4,
  "nbformat_minor": 0,
  "metadata": {
    "colab": {
      "provenance": [],
      "mount_file_id": "19BNFKC2MdF8tXZkmsL0lo-j1RG74QUvV",
      "authorship_tag": "ABX9TyMocmO/+s6jSHtN8dBUdzBz",
      "include_colab_link": true
    },
    "kernelspec": {
      "name": "python3",
      "display_name": "Python 3"
    },
    "language_info": {
      "name": "python"
    }
  },
  "cells": [
    {
      "cell_type": "markdown",
      "metadata": {
        "id": "view-in-github",
        "colab_type": "text"
      },
      "source": [
        "<a href=\"https://colab.research.google.com/github/amunoz88/Applied_DS_2025/blob/main/Logistic_regression.ipynb\" target=\"_parent\"><img src=\"https://colab.research.google.com/assets/colab-badge.svg\" alt=\"Open In Colab\"/></a>"
      ]
    },
    {
      "cell_type": "code",
      "execution_count": 1,
      "metadata": {
        "id": "zqR-4PHnvCvI"
      },
      "outputs": [],
      "source": [
        "import pandas as pd\n",
        "import matplotlib.pyplot as plt\n",
        "import seaborn as sns\n",
        "import statsmodels.formula.api as smf\n",
        "import sklearn.metrics as skm\n",
        "import sklearn.compose as skc\n",
        "import sklearn.preprocessing as skp\n",
        "import matplotlib.pyplot as plt\n",
        "from scipy import stats"
      ]
    },
    {
      "cell_type": "code",
      "source": [
        "data = pd.read_csv(\"/content/drive/MyDrive/CUNY 2025/Datasets/poisson.csv\")\n",
        "print(data.X)\n",
        "plt.hist(data.X, bins=20, density=True)\n",
        "theta = np.mean(data.X)\n",
        "print(theta)\n",
        "probs = stats.poisson(theta).pmf(range(0,11))\n",
        "plt.plot(range(0,11), probs)"
      ],
      "metadata": {
        "colab": {
          "base_uri": "https://localhost:8080/",
          "height": 848
        },
        "id": "kDtmF4bJk99c",
        "outputId": "0e31e012-0716-4ae1-eb30-fb69a1cac10c"
      },
      "execution_count": 2,
      "outputs": [
        {
          "output_type": "stream",
          "name": "stdout",
          "text": [
            "0      3\n",
            "1      5\n",
            "2      5\n",
            "3      4\n",
            "4      4\n",
            "      ..\n",
            "995    4\n",
            "996    5\n",
            "997    4\n",
            "998    2\n",
            "999    1\n",
            "Name: X, Length: 1000, dtype: int64\n"
          ]
        },
        {
          "output_type": "error",
          "ename": "NameError",
          "evalue": "name 'np' is not defined",
          "traceback": [
            "\u001b[0;31m---------------------------------------------------------------------------\u001b[0m",
            "\u001b[0;31mNameError\u001b[0m                                 Traceback (most recent call last)",
            "\u001b[0;32m<ipython-input-2-653e0201b689>\u001b[0m in \u001b[0;36m<cell line: 0>\u001b[0;34m()\u001b[0m\n\u001b[1;32m      2\u001b[0m \u001b[0mprint\u001b[0m\u001b[0;34m(\u001b[0m\u001b[0mdata\u001b[0m\u001b[0;34m.\u001b[0m\u001b[0mX\u001b[0m\u001b[0;34m)\u001b[0m\u001b[0;34m\u001b[0m\u001b[0;34m\u001b[0m\u001b[0m\n\u001b[1;32m      3\u001b[0m \u001b[0mplt\u001b[0m\u001b[0;34m.\u001b[0m\u001b[0mhist\u001b[0m\u001b[0;34m(\u001b[0m\u001b[0mdata\u001b[0m\u001b[0;34m.\u001b[0m\u001b[0mX\u001b[0m\u001b[0;34m,\u001b[0m \u001b[0mbins\u001b[0m\u001b[0;34m=\u001b[0m\u001b[0;36m20\u001b[0m\u001b[0;34m,\u001b[0m \u001b[0mdensity\u001b[0m\u001b[0;34m=\u001b[0m\u001b[0;32mTrue\u001b[0m\u001b[0;34m)\u001b[0m\u001b[0;34m\u001b[0m\u001b[0;34m\u001b[0m\u001b[0m\n\u001b[0;32m----> 4\u001b[0;31m \u001b[0mtheta\u001b[0m \u001b[0;34m=\u001b[0m \u001b[0mnp\u001b[0m\u001b[0;34m.\u001b[0m\u001b[0mmean\u001b[0m\u001b[0;34m(\u001b[0m\u001b[0mdata\u001b[0m\u001b[0;34m.\u001b[0m\u001b[0mX\u001b[0m\u001b[0;34m)\u001b[0m\u001b[0;34m\u001b[0m\u001b[0;34m\u001b[0m\u001b[0m\n\u001b[0m\u001b[1;32m      5\u001b[0m \u001b[0mprint\u001b[0m\u001b[0;34m(\u001b[0m\u001b[0mtheta\u001b[0m\u001b[0;34m)\u001b[0m\u001b[0;34m\u001b[0m\u001b[0;34m\u001b[0m\u001b[0m\n\u001b[1;32m      6\u001b[0m \u001b[0mprobs\u001b[0m \u001b[0;34m=\u001b[0m \u001b[0mstats\u001b[0m\u001b[0;34m.\u001b[0m\u001b[0mpoisson\u001b[0m\u001b[0;34m(\u001b[0m\u001b[0mtheta\u001b[0m\u001b[0;34m)\u001b[0m\u001b[0;34m.\u001b[0m\u001b[0mpmf\u001b[0m\u001b[0;34m(\u001b[0m\u001b[0mrange\u001b[0m\u001b[0;34m(\u001b[0m\u001b[0;36m0\u001b[0m\u001b[0;34m,\u001b[0m\u001b[0;36m11\u001b[0m\u001b[0;34m)\u001b[0m\u001b[0;34m)\u001b[0m\u001b[0;34m\u001b[0m\u001b[0;34m\u001b[0m\u001b[0m\n",
            "\u001b[0;31mNameError\u001b[0m: name 'np' is not defined"
          ]
        },
        {
          "output_type": "display_data",
          "data": {
            "text/plain": [
              "<Figure size 640x480 with 1 Axes>"
            ],
            "image/png": "[encoded data removed]"
          },
          "metadata": {}
        }
      ]
    },
    {
      "cell_type": "markdown",
      "source": [
        "Visit https://www.kaggle.com/datasets/wenruliu/adult-income-dataset download the dataset and upload it to Colab\n"
      ],
      "metadata": {
        "id": "15qJWYqHw6fi"
      }
    },
    {
      "cell_type": "code",
      "source": [
        "import numpy as np\n",
        "# Replace with the correct path.\n",
        "data = pd.read_csv(\"/content/adult.csv\")\n",
        "data['label'] = data['income'].apply(lambda x: 1 if x == '>50K' else 0)\n",
        "data = data.drop('income', axis=1)\n",
        "#print(data)\n",
        "\n",
        "#Replace column names\n",
        "columns=data.columns\n",
        "columns = [c.replace(\"-\", \"_\") for c in columns]\n",
        "data.columns = columns\n",
        "\n",
        "NUMERICAL = ['fnlwgt','educational_num', 'capital_gain', 'capital_loss','age', 'hours_per_week']\n",
        "CATEGORICAL = list(set(data.columns) - set(NUMERICAL))\n",
        "CATEGORICAL.remove('label')\n",
        "\n",
        "# Transform data in columns to have mean zero and standard deviation 1. This\n",
        "# seems to help a bit with the numerical instability issues. In class we did\n",
        "# MinMax Scaler but this seems to work better.\n",
        "column_transformer = skc.ColumnTransformer(\n",
        "    [('std', skp.StandardScaler(), NUMERICAL)],\n",
        "    remainder='passthrough',\n",
        "    verbose_feature_names_out=False\n",
        ")\n",
        "\n",
        "\n",
        "data = pd.DataFrame(column_transformer.fit_transform(data), columns=column_transformer.get_feature_names_out())\n",
        "features = []\n",
        "\n",
        "print(np.mean(data.capital_loss))\n",
        "#Create formula\n",
        "for c in data.columns:\n",
        "  if c == 'label':\n",
        "    continue\n",
        "  features.append(c)\n",
        "\n",
        "  model_string =  'label~' + \"+\".join(features)\n",
        "\n",
        "# Transformer makes columns into objects. We remap them to floats.\n",
        "for c  in NUMERICAL:\n",
        "  data[c] = data[c].astype(float)\n",
        "data.label = data.label.astype(int)\n",
        "\n",
        "# LBFGS is an optimization method that usually works well.\n",
        "# Number of iterations is the number of iterations for the optimization method.\n",
        "print(smf.logit(model_string,data).fit(maxiter=500, method='lbfgs').summary())\n",
        "\n"
      ],
      "metadata": {
        "colab": {
          "base_uri": "https://localhost:8080/"
        },
        "id": "Rnkdh_79v0EK",
        "outputId": "981d5626-6a27-474f-c75e-e330b19636f5"
      },
      "execution_count": 25,
      "outputs": [
        {
          "output_type": "stream",
          "name": "stdout",
          "text": [
            "7.617581999352657e-17\n"
          ]
        },
        {
          "output_type": "stream",
          "name": "stderr",
          "text": [
            "/usr/local/lib/python3.11/dist-packages/statsmodels/base/model.py:595: HessianInversionWarning: Inverting hessian failed, no bse or cov_params available\n",
            "  warnings.warn('Inverting hessian failed, no bse or cov_params '\n"
          ]
        },
        {
          "output_type": "stream",
          "name": "stdout",
          "text": [
            "                           Logit Regression Results                           \n",
            "==============================================================================\n",
            "Dep. Variable:                  label   No. Observations:                48842\n",
            "Model:                          Logit   Df Residuals:                    48743\n",
            "Method:                           MLE   Df Model:                           98\n",
            "Date:                Wed, 12 Mar 2025   Pseudo R-squ.:                  0.4257\n",
            "Time:                        14:22:22   Log-Likelihood:                -15436.\n",
            "converged:                       True   LL-Null:                       -26875.\n",
            "Covariance Type:            nonrobust   LLR p-value:                     0.000\n",
            "================================================================================================================\n",
            "                                                   coef    std err          z      P>|z|      [0.025      0.975]\n",
            "----------------------------------------------------------------------------------------------------------------\n",
            "Intercept                                       -4.8082        nan        nan        nan         nan         nan\n",
            "workclass[T.Federal-gov]                         0.9816        nan        nan        nan         nan         nan\n",
            "workclass[T.Local-gov]                           0.3401        nan        nan        nan         nan         nan\n",
            "workclass[T.Never-worked]                       -0.6464        nan        nan        nan         nan         nan\n",
            "workclass[T.Private]                             0.4869        nan        nan        nan         nan         nan\n",
            "workclass[T.Self-emp-inc]                        0.6359        nan        nan        nan         nan         nan\n",
            "workclass[T.Self-emp-not-inc]                   -0.0526        nan        nan        nan         nan         nan\n",
            "workclass[T.State-gov]                           0.1714        nan        nan        nan         nan         nan\n",
            "workclass[T.Without-pay]                        -0.3845        nan        nan        nan         nan         nan\n",
            "education[T.11th]                               -0.2429        nan        nan        nan         nan         nan\n",
            "education[T.12th]                               -0.1650        nan        nan        nan         nan         nan\n",
            "education[T.1st-4th]                             0.8091        nan        nan        nan         nan         nan\n",
            "education[T.5th-6th]                             0.8969        nan        nan        nan         nan         nan\n",
            "education[T.7th-8th]                             0.2827        nan        nan        nan         nan         nan\n",
            "education[T.9th]                                 0.1459        nan        nan        nan         nan         nan\n",
            "education[T.Assoc-acdm]                         -0.6276        nan        nan        nan         nan         nan\n",
            "education[T.Assoc-voc]                          -0.3672        nan        nan        nan         nan         nan\n",
            "education[T.Bachelors]                          -0.4349        nan        nan        nan         nan         nan\n",
            "education[T.Doctorate]                          -0.5677        nan        nan        nan         nan         nan\n",
            "education[T.HS-grad]                            -0.1666        nan        nan        nan         nan         nan\n",
            "education[T.Masters]                            -0.4416        nan        nan        nan         nan         nan\n",
            "education[T.Preschool]                          -2.2669        nan        nan        nan         nan         nan\n",
            "education[T.Prof-school]                        -0.2766        nan        nan        nan         nan         nan\n",
            "education[T.Some-college]                       -0.1487        nan        nan        nan         nan         nan\n",
            "marital_status[T.Married-AF-spouse]              2.4686        nan        nan        nan         nan         nan\n",
            "marital_status[T.Married-civ-spouse]             2.3612        nan        nan        nan         nan         nan\n",
            "marital_status[T.Married-spouse-absent]          0.1486        nan        nan        nan         nan         nan\n",
            "marital_status[T.Never-married]                 -0.4267        nan        nan        nan         nan         nan\n",
            "marital_status[T.Separated]                     -0.0583        nan        nan        nan         nan         nan\n",
            "marital_status[T.Widowed]                        0.0843        nan        nan        nan         nan         nan\n",
            "occupation[T.Adm-clerical]                       0.2723        nan        nan        nan         nan         nan\n",
            "occupation[T.Armed-Forces]                       0.7749        nan        nan        nan         nan         nan\n",
            "occupation[T.Craft-repair]                       0.3459        nan        nan        nan         nan         nan\n",
            "occupation[T.Exec-managerial]                    1.0433        nan        nan        nan         nan         nan\n",
            "occupation[T.Farming-fishing]                   -0.6823        nan        nan        nan         nan         nan\n",
            "occupation[T.Handlers-cleaners]                 -0.4026        nan        nan        nan         nan         nan\n",
            "occupation[T.Machine-op-inspct]                 -0.0220        nan        nan        nan         nan         nan\n",
            "occupation[T.Other-service]                     -0.5959        nan        nan        nan         nan         nan\n",
            "occupation[T.Priv-house-serv]                   -1.6716        nan        nan        nan         nan         nan\n",
            "occupation[T.Prof-specialty]                     0.8079        nan        nan        nan         nan         nan\n",
            "occupation[T.Protective-serv]                    0.7597        nan        nan        nan         nan         nan\n",
            "occupation[T.Sales]                              0.5338        nan        nan        nan         nan         nan\n",
            "occupation[T.Tech-support]                       0.8392        nan        nan        nan         nan         nan\n",
            "occupation[T.Transport-moving]                   0.1762        nan        nan        nan         nan         nan\n",
            "relationship[T.Not-in-family]                    0.5924        nan        nan        nan         nan         nan\n",
            "relationship[T.Other-relative]                  -0.4953        nan        nan        nan         nan         nan\n",
            "relationship[T.Own-child]                       -0.5113        nan        nan        nan         nan         nan\n",
            "relationship[T.Unmarried]                        0.4086        nan        nan        nan         nan         nan\n",
            "relationship[T.Wife]                             1.1437        nan        nan        nan         nan         nan\n",
            "race[T.Asian-Pac-Islander]                       0.7219        nan        nan        nan         nan         nan\n",
            "race[T.Black]                                    0.2482        nan        nan        nan         nan         nan\n",
            "race[T.Other]                                    0.4625        nan        nan        nan         nan         nan\n",
            "race[T.White]                                    0.4978        nan        nan        nan         nan         nan\n",
            "gender[T.Male]                                   0.7100        nan        nan        nan         nan         nan\n",
            "native_country[T.Cambodia]                       0.8890        nan        nan        nan         nan         nan\n",
            "native_country[T.Canada]                         0.6090        nan        nan        nan         nan         nan\n",
            "native_country[T.China]                         -0.6279        nan        nan        nan         nan         nan\n",
            "native_country[T.Columbia]                      -2.1158        nan        nan        nan         nan         nan\n",
            "native_country[T.Cuba]                           0.2159        nan        nan        nan         nan         nan\n",
            "native_country[T.Dominican-Republic]            -1.0075        nan        nan        nan         nan         nan\n",
            "native_country[T.Ecuador]                       -0.3322        nan        nan        nan         nan         nan\n",
            "native_country[T.El-Salvador]                   -0.4999        nan        nan        nan         nan         nan\n",
            "native_country[T.England]                        0.5470        nan        nan        nan         nan         nan\n",
            "native_country[T.France]                         0.7846        nan        nan        nan         nan         nan\n",
            "native_country[T.Germany]                        0.1758        nan        nan        nan         nan         nan\n",
            "native_country[T.Greece]                        -0.0874        nan        nan        nan         nan         nan\n",
            "native_country[T.Guatemala]                     -0.4935        nan        nan        nan         nan         nan\n",
            "native_country[T.Haiti]                          0.2930        nan        nan        nan         nan         nan\n",
            "native_country[T.Holand-Netherlands]            -0.0824        nan        nan        nan         nan         nan\n",
            "native_country[T.Honduras]                       0.0411        nan        nan        nan         nan         nan\n",
            "native_country[T.Hong]                          -0.4946        nan        nan        nan         nan         nan\n",
            "native_country[T.Hungary]                        0.4238        nan        nan        nan         nan         nan\n",
            "native_country[T.India]                         -0.2048        nan        nan        nan         nan         nan\n",
            "native_country[T.Iran]                           0.0480        nan        nan        nan         nan         nan\n",
            "native_country[T.Ireland]                        1.1549        nan        nan        nan         nan         nan\n",
            "native_country[T.Italy]                          0.7102        nan        nan        nan         nan         nan\n",
            "native_country[T.Jamaica]                        0.3150        nan        nan        nan         nan         nan\n",
            "native_country[T.Japan]                         -0.0730        nan        nan        nan         nan         nan\n",
            "native_country[T.Laos]                          -1.3403        nan        nan        nan         nan         nan\n",
            "native_country[T.Mexico]                        -0.6814        nan        nan        nan         nan         nan\n",
            "native_country[T.Nicaragua]                     -0.5455        nan        nan        nan         nan         nan\n",
            "native_country[T.Outlying-US(Guam-USVI-etc)]    -0.8670        nan        nan        nan         nan         nan\n",
            "native_country[T.Peru]                          -0.8591        nan        nan        nan         nan         nan\n",
            "native_country[T.Philippines]                    0.2921        nan        nan        nan         nan         nan\n",
            "native_country[T.Poland]                         0.0317        nan        nan        nan         nan         nan\n",
            "native_country[T.Portugal]                       0.7785        nan        nan        nan         nan         nan\n",
            "native_country[T.Puerto-Rico]                   -0.1627        nan        nan        nan         nan         nan\n",
            "native_country[T.Scotland]                      -0.8418        nan        nan        nan         nan         nan\n",
            "native_country[T.South]                         -1.1839        nan        nan        nan         nan         nan\n",
            "native_country[T.Taiwan]                        -0.0563        nan        nan        nan         nan         nan\n",
            "native_country[T.Thailand]                      -0.8394        nan        nan        nan         nan         nan\n",
            "native_country[T.Trinadad&Tobago]               -1.1437        nan        nan        nan         nan         nan\n",
            "native_country[T.United-States]                  0.2348        nan        nan        nan         nan         nan\n",
            "native_country[T.Vietnam]                       -1.1153        nan        nan        nan         nan         nan\n",
            "native_country[T.Yugoslavia]                     0.7723        nan        nan        nan         nan         nan\n",
            "fnlwgt                                           0.0812        nan        nan        nan         nan         nan\n",
            "educational_num                                  0.8914        nan        nan        nan         nan         nan\n",
            "capital_gain                                     2.3644        nan        nan        nan         nan         nan\n",
            "capital_loss                                     0.2608        nan        nan        nan         nan         nan\n",
            "age                                              0.3443        nan        nan        nan         nan         nan\n",
            "hours_per_week                                   0.3576        nan        nan        nan         nan         nan\n",
            "================================================================================================================\n"
          ]
        }
      ]
    },
    {
      "cell_type": "code",
      "source": [
        "from sklearn.linear_model import LogisticRegression\n",
        "\n",
        "train = data.sample(frac=0.8, random_state=1)\n",
        "test = data.drop(train.index)\n",
        "test = test[test.native_country!='Holand-Netherlands']\n",
        "column_transformer = skc.ColumnTransformer(\n",
        "    [('minmax', skp.MinMaxScaler(), NUMERICAL),\n",
        "     ('cat', skp.OneHotEncoder(), CATEGORICAL)],\n",
        "    remainder='drop',\n",
        "    verbose_feature_names_out=False\n",
        ")\n",
        "\n",
        "transformed_data = column_transformer.fit_transform(train)\n",
        "print(transformed_data.shape)\n",
        "\n",
        "test_transformed_data = column_transformer.transform(test)\n",
        "print(test_transformed_data.shape)\n",
        "model = LogisticRegression(C= 100).fit(transformed_data, train.label.values)"
      ],
      "metadata": {
        "colab": {
          "base_uri": "https://localhost:8080/"
        },
        "id": "Gb1sXVmB-CmI",
        "outputId": "0873c802-cf18-4980-edfc-0236c5d53cd5"
      },
      "execution_count": 30,
      "outputs": [
        {
          "output_type": "stream",
          "name": "stdout",
          "text": [
            "(39074, 107)\n",
            "(9767, 107)\n"
          ]
        }
      ]
    },
    {
      "cell_type": "code",
      "source": [
        "print(model.predict_proba(test_transformed_data))\n",
        "skm.accuracy_score(test.label.values, model.predict(test_transformed_data))\n",
        "skm.RocCurveDisplay.from_predictions(test.label.values, model.predict_proba(test_transformed_data)[:,1])"
      ],
      "metadata": {
        "colab": {
          "base_uri": "https://localhost:8080/",
          "height": 596
        },
        "id": "DT83a3Hp6rg2",
        "outputId": "10e821c4-69cc-4c64-92d7-4cae985803aa"
      },
      "execution_count": 31,
      "outputs": [
        {
          "output_type": "stream",
          "name": "stdout",
          "text": [
            "[[0.95058779 0.04941221]\n",
            " [0.48169911 0.51830089]\n",
            " [0.16994916 0.83005084]\n",
            " ...\n",
            " [0.55722605 0.44277395]\n",
            " [0.99593323 0.00406677]\n",
            " [0.00467725 0.99532275]]\n"
          ]
        },
        {
          "output_type": "execute_result",
          "data": {
            "text/plain": [
              "<sklearn.metrics._plot.roc_curve.RocCurveDisplay at 0x7fd858856150>"
            ]
          },
          "metadata": {},
          "execution_count": 31
        },
        {
          "output_type": "display_data",
          "data": {
            "text/plain": [
              "<Figure size 640x480 with 1 Axes>"
            ],
            "image/png": "[encoded data removed]"
          },
          "metadata": {}
        }
      ]
    },
    {
      "cell_type": "code",
      "source": [
        "skm.roc_auc_score(test['label'], model.predict(test_transformed_data))\n",
        "skm.accuracy_score(test['label'], model.predict(test_transformed_data) > 0.5)"
      ],
      "metadata": {
        "colab": {
          "base_uri": "https://localhost:8080/"
        },
        "id": "4ulR7s_zympm",
        "outputId": "f441eefd-a47c-4cf2-b438-4474e134875c"
      },
      "execution_count": 34,
      "outputs": [
        {
          "output_type": "execute_result",
          "data": {
            "text/plain": [
              "0.8499027336950957"
            ]
          },
          "metadata": {},
          "execution_count": 34
        }
      ]
    },
    {
      "cell_type": "code",
      "source": [],
      "metadata": {
        "id": "E9-IiiNp0tCJ"
      },
      "execution_count": null,
      "outputs": []
    }
  ]
}