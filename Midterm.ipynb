{
  "nbformat": 4,
  "nbformat_minor": 0,
  "metadata": {
    "colab": {
      "provenance": [],
      "authorship_tag": "ABX9TyN8fwnOlEuNCNocJ7kkcXqS",
      "include_colab_link": true
    },
    "kernelspec": {
      "name": "python3",
      "display_name": "Python 3"
    },
    "language_info": {
      "name": "python"
    }
  },
  "cells": [
    {
      "cell_type": "markdown",
      "metadata": {
        "id": "view-in-github",
        "colab_type": "text"
      },
      "source": [
        "<a href=\"https://colab.research.google.com/github/amunoz88/Applied_DS_2025/blob/main/Midterm.ipynb\" target=\"_parent\"><img src=\"https://colab.research.google.com/assets/colab-badge.svg\" alt=\"Open In Colab\"/></a>"
      ]
    },
    {
      "cell_type": "code",
      "execution_count": 27,
      "metadata": {
        "id": "u-slRYWyYf2z"
      },
      "outputs": [],
      "source": [
        "import numpy as np\n",
        "import pandas as pd\n",
        "import matplotlib.pyplot as plt\n",
        "import sklearn.metrics as skm\n",
        "import sklearn.compose as skc\n",
        "import sklearn.preprocessing as skp\n",
        "from sklearn.linear_model import LogisticRegression\n"
      ]
    },
    {
      "cell_type": "markdown",
      "source": [
        "Upload teh dataset wine_data_small.csv to your colab.\n",
        "\n",
        "Based on the column label decide whether you should model the label based on logistic or linear regression.\n",
        "\n",
        "1. Train a stats model to predict the label using all the features. Print the summary. Based on the summary, does the probability of your wine (according to the model) being good increases or decreases as the density of the wine increases? How about as the alcohol level increases?\n",
        "\n",
        "2. Use sklearn for prediciton:\n",
        "\n",
        " a. Split your data into trainining (80% of your data) and testing (20%) of your data.\n",
        "\n",
        " b. Apply StandardScaler() to the feature columns of the dataset.\n",
        "\n",
        " c. Vary the parameter C that defines the logistic regression model in the set np.logspace(-4, 1, 50)\n",
        "\n",
        " d. Train your model for each parameter C and evaluate your model on the the train and test datasets by calculatin the accuracy.\n",
        "\n",
        " e. Plot the accuracy numbers for your training and test datasets as a function of C. What value of C yields the best accuracy for the train data. How about the best accuracy for the test data?"
      ],
      "metadata": {
        "id": "fpMV9CMEiLAB"
      }
    }
  ]
}