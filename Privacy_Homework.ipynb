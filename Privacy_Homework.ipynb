{
  "nbformat": 4,
  "nbformat_minor": 0,
  "metadata": {
    "colab": {
      "provenance": [],
      "include_colab_link": true
    },
    "kernelspec": {
      "name": "python3",
      "display_name": "Python 3"
    },
    "language_info": {
      "name": "python"
    }
  },
  "cells": [
    {
      "cell_type": "markdown",
      "metadata": {
        "id": "view-in-github",
        "colab_type": "text"
      },
      "source": [
        "<a href=\"https://colab.research.google.com/github/amunoz88/Applied_DS_2025/blob/main/Privacy_Homework.ipynb\" target=\"_parent\"><img src=\"https://colab.research.google.com/assets/colab-badge.svg\" alt=\"Open In Colab\"/></a>"
      ]
    },
    {
      "cell_type": "code",
      "execution_count": null,
      "metadata": {
        "id": "c7wtU67hTt9U"
      },
      "outputs": [],
      "source": []
    },
    {
      "cell_type": "markdown",
      "source": [
        "## Preamble\n",
        "\n",
        "In class we saw that given a question with two answers $\\{0, 1\\}$, we can define a simple $\\epsilon$-differentially private mechanism by using binary randomized response as follows:\n",
        "\n",
        "If $X$ denotes the true value of the answer to the query then the randomized response mechanism generates a private response $Y$ as follows:\n",
        "\n",
        " 1. Flip a coin with probability $p$ of being heads\n",
        " 2. If it is heads, then return $X$\n",
        " 3. If it is tails:\n",
        "   \n",
        "   a. Flip a fair coin\n",
        "\n",
        "   b. If it is heads, then return 1, otherwise return 0.\n",
        "\n",
        "\n",
        "Alternatively we can express $Y = X  Z_1 + (1 - Z_1) Z_2$ where $Z_1 \\sim \\text{Bernoulli}(p)$ and $Z_2\\sim \\text{Bernoulli}(1/2)$.\n",
        "\n",
        "We also saw that in order to achieve $\\epsilon$-differential privacy we must let $p = \\frac{e^\\epsilon - 1}{e^\\epsilon + 1}$. This is true because that makes it so that\n",
        "\n",
        "$$P(Y = 1| X=1) = e^\\epsilon P(Y=1 | X=0)$$.\n",
        "\n",
        "## Use cases\n",
        "How is this data useful? If we receive a single differentially private answer from this model, we cannot really learn anything useful about the data. But if we collect $n$ answers from different individuals, we can try to estimate useful statistics about the population. In particular we want to estimate $\\sum_{i=1}^n {X_i}$.\n",
        "\n",
        "A naïve estimator of this quantity would be $\\sum_{i=1}^n Y_i$ but notice that our mechanism introduces some bias on this estimator.\n",
        "\n",
        "Indeed, the expected value (over the randomness of the mechanism) of this estimator is given by\n",
        "\n",
        "$$\\mathbb{E}\\left[\\sum_{i=1}^n Y_i\\right] = \\sum_{i=1}^n \\mathbb{E}[Y_i] = p \\sum_{i=1}^n X_i + \\frac{(1- p) n }{2}$$\n",
        "\n",
        "Where the last equality follows from the definition of $Y$ using Bernoulli random variables. By solving for $\\sum_{i=1}^n X_i$ we see that the estimator\n",
        "\n",
        "$$\\mathbf{E} = \\frac{1}{p} \\left(\\sum_{i=1}^n Y_i - \\frac{(1-p) n}{2} \\right)$$ satisfies that\n",
        "\n",
        "$$\\mathbb{E}[\\mathbf{E}] = \\sum_{i=1}^n X_i$$\n",
        "\n",
        "\n"
      ],
      "metadata": {
        "id": "h-n0AMR8T0O0"
      }
    },
    {
      "cell_type": "markdown",
      "source": [
        "\n",
        "#Homework\n",
        "1. Based on the description above for implementing a locally differentially private mechanism. Write a description of how to create an $\\epsilon$-differentially private mechanism when the true answer $X$ can take one of $k$ possible values $\\{1, 2, ..., k\\}$.\n",
        "\n",
        "2. If we observe $n$ responses $Y_i$ from such mechanism. What is an estimator for the quantity $\\sum_{i=1}^n X_i = j$ where $j \\in \\{1, \\ldots, k\\}$.\n",
        "\n",
        "3. Implement such mechanism (it should take $\\epsilon$ as a parameter) and apply it to the relationship status column of the adult dataset.\n",
        "\n",
        "4. Estimate the number of people on each relationship status using the estimator you came up with on step 2.\n",
        "\n",
        "5. Implement the Laplace mechanism for histograms. Use this mecahnism to answer the same question as in step 4.\n",
        "\n",
        "6. Generate a plot with the following information. For $\\epsilon = \\{0.1, 0.2, ...2.0\\}$ calculate the average (run your private algorithm 100 times) the $l_1$ error of your estimated histogram to the true histogram for both the local differential privacy algorithm and the central differential privacy algorithm.\n"
      ],
      "metadata": {
        "id": "zpX28GXMYono"
      }
    }
  ]
}