{
  "nbformat": 4,
  "nbformat_minor": 0,
  "metadata": {
    "colab": {
      "provenance": [],
      "include_colab_link": true
    },
    "kernelspec": {
      "name": "python3",
      "display_name": "Python 3"
    },
    "language_info": {
      "name": "python"
    }
  },
  "cells": [
    {
      "cell_type": "markdown",
      "metadata": {
        "id": "view-in-github",
        "colab_type": "text"
      },
      "source": [
        "<a href=\"https://colab.research.google.com/github/amunoz88/Applied_DS_2025/blob/main/Probability_review.ipynb\" target=\"_parent\"><img src=\"https://colab.research.google.com/assets/colab-badge.svg\" alt=\"Open In Colab\"/></a>"
      ]
    },
    {
      "cell_type": "code",
      "execution_count": null,
      "metadata": {
        "id": "1ODxFtlzw_-2"
      },
      "outputs": [],
      "source": [
        "import numpy as np\n",
        "import matplotlib.pyplot as plt\n",
        "from scipy import stats"
      ]
    },
    {
      "cell_type": "markdown",
      "source": [
        "# Simulating continuous random variables\n",
        "\n",
        "Given a random variable $X$ with cumulative distribution function $F$. Show that $F(X)$ is distributed uniformly in $[0,1]$. Therefore, if $U$ is distributed uniformly in $[0,1]$ then $X = F^{-1}(U)$ has the desired distribution $F$.\n",
        "\n",
        "We say $X$ is an exponential random variable with parameter $\\lambda$ if:\n",
        "\n",
        "$P(X \\leq x) = 1 - e^{-\\lambda x}$.\n",
        "\n",
        "**Exercise:**\n",
        " 1. Simulate 1000 independent exponential random variables with parameter $\\lambda =2$\n",
        " 2. Generate a histogram of the distribution\n",
        " 3. Show that it follows the desired exponential distribution by plotting the probability density function of scipy stats package\n",
        " 4. Calculate the average of the sample you drew. Based on that what do you think is the expectation of an exponential random variable with parameter $\\lambda = 2$?\n",
        " 5. What is the expectation of an exponential random variable with parameter $\\lambda$?"
      ],
      "metadata": {
        "id": "x0TxgGQYyUeg"
      }
    },
    {
      "cell_type": "code",
      "source": [],
      "metadata": {
        "id": "ZsxeHczw81e5"
      },
      "execution_count": null,
      "outputs": []
    },
    {
      "cell_type": "markdown",
      "source": [
        "Let $R$ be a random variable in the interval $[0,1]$ with density given by $f(r) = r$.\n",
        "\n",
        "1. What is the cumulative distribution function $F$ for $R$.\n",
        "2. Generate a 1000 independent samples of random variable $R$.\n",
        "3. Generate 1000 independent samples of a uniform random variable $U$ in $[0, 2 \\pi]$.\n",
        "4. Define $X = R \\cos U$ and $Y = R \\sin U$.\n",
        "5. Plot the samples $X, Y$ as a scatter plot. (Use the option plt.gca().set_aspect('equal') before displyaing the plot. This makes the x and y axis in the same scale) What do you think is the distribution of $(X, Y)$? Can you prove it?\n"
      ],
      "metadata": {
        "id": "gwmPgggT83qQ"
      }
    },
    {
      "cell_type": "code",
      "source": [],
      "metadata": {
        "id": "6YqVg9Cb-lSz"
      },
      "execution_count": null,
      "outputs": []
    },
    {
      "cell_type": "markdown",
      "source": [
        "# Limit theorems\n",
        "For a given $N$ use the function np.random.exponential to generate $N$ samples from an exponential random variable with $\\lambda = 1$ for $N=np.linspace(10, 100000, 500)$. Calculate the mean of each sample and plot the mean against $N$. What does it look like? Is it converging to some value?\n",
        "\n",
        "What happens if you run the experiment several times?\n",
        "\n",
        "Do the same excercise for the Cauchy distribution. What happens? Why?"
      ],
      "metadata": {
        "id": "CWEAwEdj-mof"
      }
    },
    {
      "cell_type": "code",
      "source": [],
      "metadata": {
        "id": "NNuq8dyhkq_O"
      },
      "execution_count": null,
      "outputs": []
    },
    {
      "cell_type": "markdown",
      "source": [
        "Let's do something different. Fix $m = 10000$ and for every $i \\in [1, \\ldots m ]$ generate $N =1000$ samples $X_1, \\ldots, X_N$ from any distribution you want in numpy (except the Cauchy distribution). Feel free to set the parameters in whatever way you want and look in Wikipedia for its respective mean $\\mu$ and variance $\\sigma^2$.\n",
        "\n",
        "Calculate $Y_i = (X_1 + \\ldots X_N - N\\mu)/\\sqrt{n \\sigma^2}$\n",
        "\n",
        "Generate a histogram of $Y_i$. Compare the histogram with your peers. Does the shape of the histogram depend on the choice of your distribution?\n",
        "\n",
        "What happens as you vary $N$ up or down?\n",
        "\n",
        "What is a reasonable value of N where the central limit theorem \"kicks in\""
      ],
      "metadata": {
        "id": "hnfCDiEtlW8W"
      }
    },
    {
      "cell_type": "code",
      "source": [],
      "metadata": {
        "id": "AmyHPlXHnAMT"
      },
      "execution_count": null,
      "outputs": []
    }
  ]
}