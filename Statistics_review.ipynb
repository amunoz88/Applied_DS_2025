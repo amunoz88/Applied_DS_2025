{
  "cells": [
    {
      "cell_type": "markdown",
      "metadata": {
        "id": "view-in-github",
        "colab_type": "text"
      },
      "source": [
        "<a href=\"https://colab.research.google.com/github/amunoz88/Applied_DS_2025/blob/main/Statistics_review.ipynb\" target=\"_parent\"><img src=\"https://colab.research.google.com/assets/colab-badge.svg\" alt=\"Open In Colab\"/></a>"
      ]
    },
    {
      "cell_type": "code",
      "execution_count": 6,
      "metadata": {
        "id": "yGteg7t-9j40"
      },
      "outputs": [],
      "source": [
        "import numpy as np\n",
        "import matplotlib.pyplot as plt\n",
        "import pandas as pd"
      ]
    },
    {
      "cell_type": "markdown",
      "source": [
        "# Confidence intervals\n",
        "\n",
        "Choose any continuous distribution with finite 4th moment (but not a Gaussian)\n",
        "\n",
        "Generate $m$ samples for $m = 10, 100, 1000, 10000$\n",
        "Estimate its mean and variance.\n",
        "\n",
        "Use the Gaussian and student t approximations for the 95% confidence interval. What happens to the confidence intervals as you increase the sample size?\n",
        "\n",
        "Are the confidence intervals correct? If you simulate the experiment 100 times, does the true mean fall in the interval at least 95 times?"
      ],
      "metadata": {
        "id": "cPembjftz7ju"
      }
    },
    {
      "cell_type": "code",
      "source": [],
      "metadata": {
        "id": "2X0iq7ce1Awu"
      },
      "execution_count": null,
      "outputs": []
    },
    {
      "cell_type": "markdown",
      "source": [
        "# Independence test\n",
        "Find the data set independence_test.csv in https://drive.google.com/drive/folders/1cMU5unnBO4w6Rg2xKnvRp0Mo8GA_XnJV?usp=drive_link\n",
        "\n",
        "Load the data into a pandas data frame.\n",
        "\n",
        "Are the two variables independent of each other?"
      ],
      "metadata": {
        "id": "zNc_FAuGnD-C"
      }
    },
    {
      "cell_type": "code",
      "execution_count": 7,
      "metadata": {
        "id": "XFt99VtW9mOO"
      },
      "outputs": [],
      "source": []
    },
    {
      "cell_type": "markdown",
      "source": [
        "# Entropy estimation\n",
        "\n",
        "Entropy is a measure of surprise of a random variable. In some scenarios. It is also helpful for instance to measure how identifiable a group of values is (look for web browser fingerpriting).\n",
        "\n",
        "For a probability mass function $p$ the entropy of the distribution is given by $\\mathbb{E}[-\\log p(x)]$\n",
        "\n",
        "Given a sample $X_1, \\ldots, X_n$ from a distribution can you come up with an estimator for the entropy of the distribution?\n",
        "\n",
        "Generate $m$ samples from a negative binomial distribution (N, p) for $N = 20, p = 0.1$. Use scipy.stats to calculate the exact entrpy of the binomial distribution. Then use your estimator to calculate the entropy from samples for $m = 100, 1000, 10000$. Can you generate confidence intervals?\n",
        "\n",
        "\n",
        "\n"
      ],
      "metadata": {
        "id": "sb4p4ZCdozDO"
      }
    },
    {
      "cell_type": "code",
      "source": [],
      "metadata": {
        "id": "Nmj5DlHfw8VM"
      },
      "execution_count": null,
      "outputs": []
    },
    {
      "cell_type": "markdown",
      "source": [
        "# A/B testing\n",
        "\n",
        "In https://www.google.com/url?q=https%3A%2F%2Fdrive.google.com%2Fdrive%2Ffolders%2F1cMU5unnBO4w6Rg2xKnvRp0Mo8GA_XnJV%3Fusp%3Ddrive_link you can find two sets of measurements on the level of sickness a person has when exposed to a treatment drug.\n",
        "\n",
        "The control arm $X$ and a treatment arm $Y$. Can you decide whether the treatment is effective or not?\n"
      ],
      "metadata": {
        "id": "M66_Dm5Gw7uQ"
      }
    },
    {
      "cell_type": "code",
      "source": [],
      "metadata": {
        "id": "Z05t1qxKxhkc"
      },
      "execution_count": null,
      "outputs": []
    }
  ],
  "metadata": {
    "colab": {
      "provenance": [],
      "mount_file_id": "1fPfEpyqO8W-26LbX2EdNaiquASERuOCM",
      "authorship_tag": "ABX9TyN3n7kYYzDByEOHnWGaWSPv",
      "include_colab_link": true
    },
    "kernelspec": {
      "display_name": "Python 3",
      "name": "python3"
    },
    "language_info": {
      "name": "python"
    }
  },
  "nbformat": 4,
  "nbformat_minor": 0
}